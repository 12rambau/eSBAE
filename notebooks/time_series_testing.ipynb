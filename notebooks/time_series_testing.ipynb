{
 "cells": [
  {
   "cell_type": "code",
   "execution_count": 1,
   "id": "6c6c067b-6653-4b2e-92c0-b921fe601911",
   "metadata": {
    "tags": []
   },
   "outputs": [
    {
     "name": "stderr",
     "output_type": "stream",
     "text": [
      "/home/sepal-user/venv/eSBAE/lib/python3.8/site-packages/bfast/__init__.py:10: UserWarning: cupy is not available in this environment, GPU fonctionnalities won't be available\n",
      "  warn(\"cupy is not available in this environment, GPU fonctionnalities won't be available\")\n"
     ]
    }
   ],
   "source": [
    "import ee\n",
    "try:\n",
    "    ee.Initialize(opt_url='https://earthengine-highvolume.googleapis.com')\n",
    "except:\n",
    "    ee.Authenticate()\n",
    "    ee.Initialize(opt_url='https://earthengine-highvolume.googleapis.com')\n",
    "\n",
    "from e_sbae.sampling import grid\n",
    "from e_sbae.ee import time_series"
   ]
  },
  {
   "cell_type": "code",
   "execution_count": 2,
   "id": "1d696829-1b32-4e8c-8d12-4be2d8f7795a",
   "metadata": {
    "tags": []
   },
   "outputs": [],
   "source": [
    "#aoi = ee.FeatureCollection(\"FAO/GAUL/2015/level1\").filter(ee.Filter.eq('ADM1_NAME', 'Beni'))\n",
    "#cells, points = grid.hexagonal_grid(aoi, 8)\n",
    "#grid.plot_samples(aoi, points, cells)\n",
    "import geopandas as gpd\n",
    "#points = gpd.read_file(\"/home/sepal-user/Ethiopia/grids/fine_grid_points_biomes_res15_esri54017.gpkg\")\n",
    "#points.insert(0, 'point_id', range(0, 0 + len(points)))\n",
    "#points.drop(['index_right', 'Class_code', 'name'], axis=1, inplace=True)\n",
    "#len(points)"
   ]
  },
  {
   "cell_type": "code",
   "execution_count": 3,
   "id": "1ad2a985-2639-4915-b054-d18d02e446ea",
   "metadata": {
    "tags": []
   },
   "outputs": [],
   "source": [
    "aoi = ee.FeatureCollection(\"FAO/GAUL/2015/level1\").filter(ee.Filter.eq('ADM1_NAME', 'Oromia'))\n",
    "points = ee.FeatureCollection(\n",
    "    \"users/andreasvollrath/eth_ts_analysis/ethiopia_hex_centroids_dggrid_15\"\n",
    ").filterBounds(aoi).sort('point_id')\n",
    "#points = ee.FeatureCollection(\"users/andreasvollrath/01_test_sbae_points\").sort('point_id')"
   ]
  },
  {
   "cell_type": "code",
   "execution_count": 7,
   "id": "896206ad-681c-4740-b8ac-96cc4cac5a46",
   "metadata": {
    "tags": []
   },
   "outputs": [
    {
     "data": {
      "text/plain": [
       "91209"
      ]
     },
     "execution_count": 7,
     "metadata": {},
     "output_type": "execute_result"
    }
   ],
   "source": [
    "points.size().getInfo()"
   ]
  },
  {
   "cell_type": "code",
   "execution_count": 4,
   "id": "bb1ed7e9-a99a-4930-bf94-b4c8a9f4d07e",
   "metadata": {
    "tags": []
   },
   "outputs": [],
   "source": [
    "# start of calibration period (mainly for bfast)\n",
    "start_calibration = \"2013-01-01\"  # YYYY-MM-DD format\n",
    "\n",
    "# Actual period of interest, i.e. monitoring period\n",
    "start_monitor =     \"2018-01-01\"  # YYYY-MM-DD format\n",
    "end_monitor =       \"2023-03-01\"  # YYYY-MM-DD format\n",
    "\n",
    "# Directory where output and temp files will go\n",
    "outdir = 'results'  # goes to module_results/sbae_point_analysis if set to None\n",
    "\n",
    "# Select algorithms to run (True or False)\n",
    "cusum_deforest =  True\n",
    "bfast_monitor =   True\n",
    "bs_slope =        True\n",
    "ts_metrics =      True\n",
    "ccdc =            True\n",
    "landtrendr =      True\n",
    "jrc_nrt =         True\n",
    "global_products = True\n",
    "\n",
    "# select the bands to extract\n",
    "bands = ['green', 'red', 'nir', 'swir1', 'swir2', 'ndfi', 'brightness', 'greenness', 'wetness'] # other choices: ndfi, ndmi, mndwi, brightness, greenness, wetness\n",
    "#bands = ['nir', 'ndfi'] # other choices: ndfi, ndmi, mndwi, brightness, greenness, wetness\n",
    "\n",
    "# select the band for univariate ts-analysis (has to be inside bands list)\n",
    "ts_band = 'ndfi'\n",
    "\n",
    "# select the resolution to which the satellite data will be resized.\n",
    "scale = 30  # in meters (70 m is half ha, relates to FAO forest definition)\n",
    "\n",
    "### DO NOT CHANGE YET ###\n",
    "satellite='Landsat'  # this is going to be Surface Reflactance, Collection 2, Tier 1 data only\n",
    "max_cloud_cover = 75  # in percentage (0-100)\n",
    "\n",
    "point_id_name = 'point_id'"
   ]
  },
  {
   "cell_type": "code",
   "execution_count": 5,
   "id": "f42aa688-fc95-4f49-b8b7-65afb6a7568f",
   "metadata": {
    "tags": []
   },
   "outputs": [],
   "source": [
    "# landsat related parameters\n",
    "lsat_params = {\n",
    "    'l9':     True,\n",
    "    'l8':     True,\n",
    "    'l7':     True,\n",
    "    'l5':     True,\n",
    "    'l4':     True,\n",
    "    'brdf':   True,\n",
    "    'bands':  bands,\n",
    "    'max_cc': max_cloud_cover\n",
    "}\n",
    "\n",
    "# bfast parameters\n",
    "bfast_params = {\n",
    "    'run':           bfast_monitor,\n",
    "    'start_monitor': start_monitor, \n",
    "    'freq':          365,\n",
    "    'k':             3, \n",
    "    'hfrac':         0.25, \n",
    "    'trend':         True, \n",
    "    'level':         0.05, \n",
    "    'backend':       'python'\n",
    "}\n",
    "\n",
    "# cusum parameters\n",
    "cusum_params = {\n",
    "    'run':              cusum_deforest,\n",
    "    'nr_of_bootstraps': 1000\n",
    "}\n",
    "\n",
    "# slope parameters\n",
    "bs_slope_params = {\n",
    "    'run':              bs_slope,\n",
    "    'nr_of_bootstraps': 1000\n",
    "}\n",
    "\n",
    "# time-series metrics\n",
    "ts_metrics_params = {\n",
    "    'run':              ts_metrics,\n",
    "    'outlier_removal':  False,\n",
    "    'z_threshhold':     3\n",
    "}\n",
    "\n",
    "# ccdc parameters\n",
    "ccdc_params = {\n",
    "    'run':                   ccdc,\n",
    "    'breakpointBands':       ['green', 'red', 'nir', 'swir1', 'swir2'],\n",
    "    'tmaskBands':            ['green', 'swir2'],\n",
    "    'minObservations':       6,\n",
    "    'chiSquareProbability':  .99,\n",
    "    'minNumOfYearsScaler':   1,\n",
    "    'dateFormat':            2,\n",
    "    'lambda':                20,\n",
    "    'maxIterations':         1000\n",
    "}\n",
    "\n",
    "\n",
    "landtrendr_params = { \n",
    "        'run':                    landtrendr,\n",
    "        'maxSegments':            6,\n",
    "        'spikeThreshold':         0.9,\n",
    "        'vertexCountOvershoot':   3,\n",
    "        'preventOneYearRecovery': True,\n",
    "        'recoveryThreshold':      0.25,\n",
    "        'pvalThreshold':          0.05,\n",
    "        'bestModelProportion':    0.75,\n",
    "        'minObservationsNeeded':  3\n",
    "}\n",
    "\n",
    "jrc_nrt_params = {\n",
    "    'run': jrc_nrt\n",
    "}\n",
    "\n",
    "# global products parameters\n",
    "global_products = {\n",
    "    'run':                      global_products,\n",
    "    'gfc':                      True,     # will include tree-cover 2000, loss, gain, lossyear\n",
    "    'tmf':                      True,    # will include deforestation and degradation year for tropical moist forests\n",
    "    'tmf_years':                True,    # will include classes per year - according to the monitor period\n",
    "    'esa_lc20':                 True,    # will include ESA LandCover Product class\n",
    "    'copernicus_lc':            True,    # will include ESA LandCover Product class - acording to the monitoring years\n",
    "    'esri_lc':                  True,    # will include the classes from ESRI World Cover 2020\n",
    "    'lang_tree_height':         True,    # returns the Tree Height from Lang et al 2022\n",
    "    'potapov_tree_height':      True,    # returns the tree height from Potapov et al. 2019 \n",
    "    'elevation':                True,    # returns elevation, slope and aspect\n",
    "    'dynamic_world_tree_prob':  True,    # returns Min, Max, Mean and StdDev of the trees probability for the monitoring period\n",
    "    'dynamic_world_class_mode': True     # returns the mode of the class for the monitoring period   \n",
    "}\n",
    "\n",
    "### DO NOT CHANGE ###\n",
    "### GATHER ALL INFO INTO A DICT #####\n",
    "config_dict = {\n",
    "    'work_dir':                         outdir,\n",
    "    'workers':                          10,\n",
    "    'max_points_per_chunk':             300,\n",
    "    'grid_size_levels':                 [0.25, 0.125, 0.075],  # definition of chunk sizes in degrees  \n",
    "    'lsat_params':                      lsat_params,\n",
    "    'ts_params': {\n",
    "        'start_calibration':            start_calibration,\n",
    "        'start_monitor':                start_monitor,\n",
    "        'end_monitor':                  end_monitor,\n",
    "        'point_id':                     point_id_name,\n",
    "        'bands':                        bands,\n",
    "        'ts_band':                      ts_band,\n",
    "        'satellite':                    satellite,\n",
    "        'scale':                        scale,\n",
    "        'max_cc':                       max_cloud_cover,\n",
    "        'outlier_removal':              True,\n",
    "        'smooth_ts':                    True       \n",
    "    },    \n",
    "    'bfast_params':                     bfast_params,\n",
    "    'cusum_params':                     cusum_params,\n",
    "    'bs_slope_params':                  bs_slope_params,\n",
    "    'ts_metrics_params':                ts_metrics_params,\n",
    "    'ccdc_params':                      ccdc_params,\n",
    "    'landtrendr_params':                landtrendr_params,\n",
    "    'jrc_nrt_params':                   jrc_nrt_params,\n",
    "    'global_products':                  global_products\n",
    "}"
   ]
  },
  {
   "cell_type": "code",
   "execution_count": null,
   "id": "9fd6056e-fc79-4c3e-afd4-b5dc991807ad",
   "metadata": {
    "tags": []
   },
   "outputs": [],
   "source": [
    "from pathlib import Path\n",
    "import json\n",
    "outdir = Path(outdir)\n",
    "outdir.mkdir(parents=True, exist_ok=True)\n",
    "\n",
    "# create tmpdir and outdir\n",
    "#tmpdir = outdir.joinpath(\"tmp\")\n",
    "#tmpdir.mkdir(parents=True, exist_ok=True)\n",
    "\n",
    "# create config file\n",
    "config_file = outdir.joinpath(\"config.json\")\n",
    "with open(config_file, \"w\") as f:\n",
    "    json.dump(config_dict, f)\n",
    "\n",
    "time_series.cascaded_extraction_ee(points, config_file)"
   ]
  },
  {
   "cell_type": "code",
   "execution_count": 8,
   "id": "b23aa98d-1d01-45bd-9873-b34c3e2c0342",
   "metadata": {
    "tags": []
   },
   "outputs": [
    {
     "name": "stdout",
     "output_type": "stream",
     "text": [
      "projects/earthengine-legacy/assets/users/andreasvollrath/tmp_esbae_20740449\n",
      "INFO: Removing assets within asset folder projects/earthengine-legacy/assets/users/andreasvollrath/tmp_esbae_20740449\n",
      "INFO: Removing asset folder projects/earthengine-legacy/assets/users/andreasvollrath/tmp_esbae_20740449.\n",
      "projects/earthengine-legacy/assets/users/andreasvollrath/tmp_esbae_5c322494\n",
      "INFO: Removing assets within asset folder projects/earthengine-legacy/assets/users/andreasvollrath/tmp_esbae_5c322494\n",
      "INFO: Removing asset folder projects/earthengine-legacy/assets/users/andreasvollrath/tmp_esbae_5c322494.\n",
      "projects/earthengine-legacy/assets/users/andreasvollrath/tmp_esbae_748564d4\n",
      "INFO: Removing assets within asset folder projects/earthengine-legacy/assets/users/andreasvollrath/tmp_esbae_748564d4\n",
      "INFO: Removing asset folder projects/earthengine-legacy/assets/users/andreasvollrath/tmp_esbae_748564d4.\n",
      "projects/earthengine-legacy/assets/users/andreasvollrath/tmp_esbae_87a26251\n",
      "INFO: Removing assets within asset folder projects/earthengine-legacy/assets/users/andreasvollrath/tmp_esbae_87a26251\n",
      "INFO: Removing asset folder projects/earthengine-legacy/assets/users/andreasvollrath/tmp_esbae_87a26251.\n",
      "projects/earthengine-legacy/assets/users/andreasvollrath/tmp_esbae_9b0293f8\n",
      "INFO: Removing assets within asset folder projects/earthengine-legacy/assets/users/andreasvollrath/tmp_esbae_9b0293f8\n",
      "INFO: Removing asset folder projects/earthengine-legacy/assets/users/andreasvollrath/tmp_esbae_9b0293f8.\n",
      "projects/earthengine-legacy/assets/users/andreasvollrath/tmp_esbae_a09a725e\n",
      "INFO: Removing assets within asset folder projects/earthengine-legacy/assets/users/andreasvollrath/tmp_esbae_a09a725e\n",
      "INFO: Removing asset folder projects/earthengine-legacy/assets/users/andreasvollrath/tmp_esbae_a09a725e.\n",
      "projects/earthengine-legacy/assets/users/andreasvollrath/tmp_esbae_b5893039\n",
      "INFO: Removing assets within asset folder projects/earthengine-legacy/assets/users/andreasvollrath/tmp_esbae_b5893039\n",
      "INFO: Removing asset folder projects/earthengine-legacy/assets/users/andreasvollrath/tmp_esbae_b5893039.\n",
      "projects/earthengine-legacy/assets/users/andreasvollrath/tmp_esbae_c204999a\n",
      "INFO: Removing assets within asset folder projects/earthengine-legacy/assets/users/andreasvollrath/tmp_esbae_c204999a\n",
      "INFO: Removing asset folder projects/earthengine-legacy/assets/users/andreasvollrath/tmp_esbae_c204999a.\n",
      "projects/earthengine-legacy/assets/users/andreasvollrath/tmp_esbae_d5c6f41e\n",
      "INFO: Removing assets within asset folder projects/earthengine-legacy/assets/users/andreasvollrath/tmp_esbae_d5c6f41e\n",
      "INFO: Removing asset folder projects/earthengine-legacy/assets/users/andreasvollrath/tmp_esbae_d5c6f41e.\n",
      "projects/earthengine-legacy/assets/users/andreasvollrath/tmp_esbae_d6181c99\n",
      "INFO: Removing assets within asset folder projects/earthengine-legacy/assets/users/andreasvollrath/tmp_esbae_d6181c99\n",
      "INFO: Removing asset folder projects/earthengine-legacy/assets/users/andreasvollrath/tmp_esbae_d6181c99.\n",
      "projects/earthengine-legacy/assets/users/andreasvollrath/tmp_esbae_e32ad707\n",
      "INFO: Removing assets within asset folder projects/earthengine-legacy/assets/users/andreasvollrath/tmp_esbae_e32ad707\n",
      "INFO: Removing asset folder projects/earthengine-legacy/assets/users/andreasvollrath/tmp_esbae_e32ad707.\n",
      "projects/earthengine-legacy/assets/users/andreasvollrath/tmp_esbae_ee50fd1b\n",
      "INFO: Removing assets within asset folder projects/earthengine-legacy/assets/users/andreasvollrath/tmp_esbae_ee50fd1b\n",
      "INFO: Removing asset folder projects/earthengine-legacy/assets/users/andreasvollrath/tmp_esbae_ee50fd1b.\n"
     ]
    }
   ],
   "source": [
    "from e_sbae.helpers import ee as eeh\n",
    "# get users asset root\n",
    "asset_root = ee.data.getAssetRoots()[0][\"id\"]\n",
    "for a in ee.data.listAssets({\"parent\": f\"{asset_root}\"})[\"assets\"]:\n",
    "    #print(a[\"name\"].split('/')[-1][:9])\n",
    "    if a[\"name\"].split('/')[-1][:9] == \"tmp_esbae\":\n",
    "        print(a[\"name\"])\n",
    "        eeh.delete_sub_folder(a[\"name\"].split('/')[-1])"
   ]
  },
  {
   "cell_type": "code",
   "execution_count": null,
   "id": "9bd08f37-5fd0-4b33-980c-fc80f3ba4416",
   "metadata": {
    "tags": []
   },
   "outputs": [],
   "source": [
    "from pathlib import Path\n",
    "import json\n",
    "import geojson\n",
    "import geopandas as gpd\n",
    "import pandas as pd\n",
    "files = []\n",
    "for file in Path(outdir).joinpath('tmp').glob('*geojson'):\n",
    "    with open(file, 'r') as outfile:\n",
    "        d = gpd.GeoDataFrame.from_features(geojson.loads(geojson.load(outfile))).drop(['dates', 'ts', 'images', 'geometry'], axis=1)\n",
    "        files.append(d)\n",
    "    \n",
    "newdf = pd.concat(files)"
   ]
  },
  {
   "cell_type": "code",
   "execution_count": null,
   "id": "7df0b8ae-8a1c-4d47-aaff-994c0919a4ca",
   "metadata": {
    "tags": []
   },
   "outputs": [],
   "source": [
    "points[~points.point_id.isin(newdf.point_id.to_list())]"
   ]
  },
  {
   "cell_type": "code",
   "execution_count": null,
   "id": "8b221a8f-0c28-418f-af30-ff39c156d503",
   "metadata": {
    "tags": []
   },
   "outputs": [],
   "source": [
    "newdf.drop_duplicates('point_id').sort_values('point_id')"
   ]
  },
  {
   "cell_type": "code",
   "execution_count": null,
   "id": "31baea99-3b08-4b5b-b7f4-09493d944953",
   "metadata": {},
   "outputs": [],
   "source": []
  }
 ],
 "metadata": {
  "kernelspec": {
   "display_name": "venv_eSBAE2",
   "language": "python",
   "name": "venv_esbae2"
  },
  "language_info": {
   "codemirror_mode": {
    "name": "ipython",
    "version": 3
   },
   "file_extension": ".py",
   "mimetype": "text/x-python",
   "name": "python",
   "nbconvert_exporter": "python",
   "pygments_lexer": "ipython3",
   "version": "3.8.10"
  }
 },
 "nbformat": 4,
 "nbformat_minor": 5
}
