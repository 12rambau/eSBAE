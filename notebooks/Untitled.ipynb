{
 "cells": [
  {
   "cell_type": "code",
   "execution_count": 25,
   "id": "75e740e3-a038-4f67-b748-09580c4827f9",
   "metadata": {
    "tags": []
   },
   "outputs": [],
   "source": [
    "import ee\n",
    "ee.Initialize()\n",
    "\n",
    "import json"
   ]
  },
  {
   "cell_type": "code",
   "execution_count": 26,
   "id": "7131ff0b-b051-4698-a6cc-257b377fc43d",
   "metadata": {
    "tags": []
   },
   "outputs": [],
   "source": [
    "input_grid = ee.FeatureCollection(\"users/andreasvollrath/eth_ts_analysis/ethiopia_hex_centroids_dggrid_15\").sort('point_id')"
   ]
  },
  {
   "cell_type": "code",
   "execution_count": 41,
   "id": "6fb0a615-c26f-4221-90b6-49837d536b27",
   "metadata": {
    "tags": []
   },
   "outputs": [],
   "source": [
    "from e_sbae.helpers.ee import processing_grid\n",
    "\n",
    "def cascaded_extraction_ee(input_grid, config_file):\n",
    "\n",
    "    # create a unique string\n",
    "    #uuid_8str = str(uuid.uuid4())[:8]\n",
    "    #export_folder = f\"tmp_esbae_{uuid_8str}\"\n",
    "\n",
    "    # read config file\n",
    "    with open(config_file) as f:\n",
    "        config_dict = json.load(f)\n",
    "\n",
    "    # get number of points to process\n",
    "    size = input_grid.size().getInfo()\n",
    "    # sort by point id\n",
    "    input_grid = input_grid.sort(config_dict['ts_params']['point_id'])\n",
    "\n",
    "    # if collection is greater than that, we iterate over chunks\n",
    "    if size > 25000:\n",
    "        for i in range(0, size, 25000):\n",
    "\n",
    "            sub = ee.FeatureCollection(input_grid.toList(25000, i))\n",
    "            aoi = ee.FeatureCollection(sub.geometry().convexHull(100))\n",
    "            grid_fc = processing_grid(aoi, 4)\n",
    "            grid = ee.FeatureCollection(grid_fc).aggregate_array('.geo').getInfo()\n",
    "\n",
    "            # create args_list for each grid cell\n",
    "            args_list = [(*l,) for l in list(enumerate(grid))]\n",
    "            break\n",
    "    \n",
    "    return args_list"
   ]
  },
  {
   "cell_type": "code",
   "execution_count": 42,
   "id": "0f7794bf-a7c9-4528-a9ce-cecbbf8e08df",
   "metadata": {
    "tags": []
   },
   "outputs": [
    {
     "data": {
      "text/plain": [
       "[(0,\n",
       "  {'geodesic': False,\n",
       "   'type': 'Polygon',\n",
       "   'coordinates': [[[32.18638998368152, 7.3907604579625],\n",
       "     [36.18638998368152, 7.3907604579625],\n",
       "     [36.18638998368152, 11.3907604579625],\n",
       "     [32.18638998368152, 11.3907604579625],\n",
       "     [32.18638998368152, 7.3907604579625]]]}),\n",
       " (1,\n",
       "  {'geodesic': False,\n",
       "   'type': 'Polygon',\n",
       "   'coordinates': [[[32.18638998368152, 11.3907604579625],\n",
       "     [36.18638998368152, 11.3907604579625],\n",
       "     [36.18638998368152, 15.3907604579625],\n",
       "     [32.18638998368152, 15.3907604579625],\n",
       "     [32.18638998368152, 11.3907604579625]]]})]"
      ]
     },
     "execution_count": 42,
     "metadata": {},
     "output_type": "execute_result"
    }
   ],
   "source": [
    "cascaded_extraction_ee(input_grid, 'results/config.json')"
   ]
  },
  {
   "cell_type": "code",
   "execution_count": 50,
   "id": "0f0eec70-f093-4542-9449-64f402ae5539",
   "metadata": {
    "tags": []
   },
   "outputs": [
    {
     "data": {
      "text/plain": [
       "0"
      ]
     },
     "execution_count": 50,
     "metadata": {},
     "output_type": "execute_result"
    }
   ],
   "source": [
    "l = ee.List(list(range(0,24570, 1)))\n",
    "#sub = ee.FeatureCollection(input_grid.toList(25000))\n",
    "sub = sub.filter(ee.Filter.inList('point_id', l))\n",
    "sub.size().getInfo()"
   ]
  },
  {
   "cell_type": "code",
   "execution_count": 51,
   "id": "4636a0ca-05d6-453a-9f35-e0111080f4ec",
   "metadata": {
    "tags": []
   },
   "outputs": [
    {
     "data": {
      "text/plain": [
       "{'type': 'FeatureCollection',\n",
       " 'columns': {'biome': 'Object',\n",
       "  'point_id': 'Integer',\n",
       "  'system:index': 'String'},\n",
       " 'features': []}"
      ]
     },
     "execution_count": 51,
     "metadata": {},
     "output_type": "execute_result"
    }
   ],
   "source": [
    "sub.getInfo()"
   ]
  },
  {
   "cell_type": "code",
   "execution_count": null,
   "id": "98dbf33e-dcdc-4f52-85b8-c850a4ff7b04",
   "metadata": {},
   "outputs": [],
   "source": [
    "from e_sbae."
   ]
  }
 ],
 "metadata": {
  "kernelspec": {
   "display_name": "venv_eSBAE2",
   "language": "python",
   "name": "venv_esbae2"
  },
  "language_info": {
   "codemirror_mode": {
    "name": "ipython",
    "version": 3
   },
   "file_extension": ".py",
   "mimetype": "text/x-python",
   "name": "python",
   "nbconvert_exporter": "python",
   "pygments_lexer": "ipython3",
   "version": "3.8.10"
  }
 },
 "nbformat": 4,
 "nbformat_minor": 5
}
