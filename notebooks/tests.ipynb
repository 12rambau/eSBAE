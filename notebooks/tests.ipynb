{
 "cells": [
  {
   "cell_type": "code",
   "execution_count": 1,
   "id": "245fd9f2-a9d5-41a9-b2a8-244cb6c6e05e",
   "metadata": {
    "tags": []
   },
   "outputs": [
    {
     "name": "stderr",
     "output_type": "stream",
     "text": [
      "/home/sepal-user/venv/eSBAE/lib/python3.8/site-packages/bfast/__init__.py:10: UserWarning: cupy is not available in this environment, GPU fonctionnalities won't be available\n",
      "  warn(\"cupy is not available in this environment, GPU fonctionnalities won't be available\")\n"
     ]
    }
   ],
   "source": [
    "import ee\n",
    "ee.Initialize()\n",
    "\n",
    "import geojson\n",
    "from shapely import geometry\n",
    "import pandas as pd\n",
    "import geopandas as gpd\n",
    "\n",
    "from eSBAE import hexagonal_grid, plot_samples\n",
    "from eSBAE import landsat_collection, extract_time_series"
   ]
  },
  {
   "cell_type": "code",
   "execution_count": null,
   "id": "84b581be-f706-40b0-8d4a-422ad18a3f28",
   "metadata": {
    "tags": []
   },
   "outputs": [],
   "source": [
    "aoi = ee.FeatureCollection(\"FAO/GAUL/2015/level1\").filter(ee.Filter.eq('ADM1_NAME', 'Beni'))\n",
    "cells, points = hexagonal_grid(aoi, 7)\n",
    "plot_samples(aoi, points, cells)"
   ]
  },
  {
   "cell_type": "code",
   "execution_count": null,
   "id": "f3a55acd-d3b4-43f7-9675-5be49b4c6a4c",
   "metadata": {},
   "outputs": [],
   "source": [
    "import eSBAE"
   ]
  },
  {
   "cell_type": "code",
   "execution_count": null,
   "id": "1e8e9c80-259c-4aa7-bb84-c4e8782cde44",
   "metadata": {
    "tags": []
   },
   "outputs": [],
   "source": [
    "# re-create a dataframe\n",
    "d = {\n",
    "    'dates': [['2022-10-10','2022-11-10','2023-01-01','2023-04-01']],\n",
    "    'ts': [{\n",
    "        'red': [543.34, 363.42, 6456.4, 345],\n",
    "        'ndfi': [54.34, 36.42, 645.4, 35]\n",
    "    }],\n",
    "    'geometry': [geometry.Point(0, 0)]\n",
    "}\n",
    "\n",
    "df = pd.DataFrame.from_dict(d, orient='columns')\n",
    "gdf = gpd.GeoDataFrame(df, geometry='geometry')"
   ]
  },
  {
   "cell_type": "code",
   "execution_count": null,
   "id": "7b952095-3cd6-40c8-b9ef-7bf3ccf361ae",
   "metadata": {
    "tags": []
   },
   "outputs": [],
   "source": [
    "# this is how we dump\n",
    "with open('test.geojson', 'w') as outfile:\n",
    "     geojson.dump(gdf.to_json(), outfile)"
   ]
  },
  {
   "cell_type": "code",
   "execution_count": null,
   "id": "10e57838-9729-4293-893d-038fe231ca19",
   "metadata": {
    "tags": []
   },
   "outputs": [],
   "source": [
    "# this is how we load\n",
    "with open('test.geojson', 'r') as outfile:\n",
    "    d = gpd.GeoDataFrame.from_features(geojson.loads(geojson.load(outfile)))"
   ]
  },
  {
   "cell_type": "code",
   "execution_count": null,
   "id": "1e6f44c7-3540-47ae-83a0-786410c96379",
   "metadata": {},
   "outputs": [],
   "source": [
    "# alternative, needs pyarrow\n",
    "d.to_parquet('test.parquet')"
   ]
  },
  {
   "cell_type": "code",
   "execution_count": 2,
   "id": "8a6b0450-2db1-45b3-82cb-74ff3e517675",
   "metadata": {
    "tags": []
   },
   "outputs": [],
   "source": [
    "grid = gpd.read_file('/home/sepal-user/Ethiopia/grids/fine_grid_points_biomes_res15_esri54017.gpkg')\n"
   ]
  },
  {
   "cell_type": "code",
   "execution_count": null,
   "id": "e786fb66-5b4b-48b2-a5c3-431a5da03462",
   "metadata": {
    "tags": []
   },
   "outputs": [],
   "source": [
    "import dask_geopandas\n",
    "\n",
    "partitions = int(len(grid)/200)\n",
    "print(partitions)\n",
    "d_gdf = dask_geopandas.from_geopandas(grid, npartitions=4)\n",
    "# create hilbert curve and sort by distance\n",
    "\n",
    "grid['hilbert_distance'] = d_gdf.geometry.hilbert_distance()\n",
    "grid = grid.sort_values('hilbert_distance').reset_index()"
   ]
  },
  {
   "cell_type": "code",
   "execution_count": null,
   "id": "2fc101d6-f482-4a4b-8c77-f9ef505c5da0",
   "metadata": {
    "tags": []
   },
   "outputs": [],
   "source": [
    "grid.head(200)"
   ]
  },
  {
   "cell_type": "code",
   "execution_count": null,
   "id": "80110f42-7a39-4697-bc73-3335841ba5d3",
   "metadata": {
    "tags": []
   },
   "outputs": [],
   "source": [
    "#d_gdf.calculate_spatial_partitions() # convex hull\n",
    "geohash = d_gdf.spatial_shuffle(by=\"hilbert\")\n",
    "geohash.spatial_partitions.plot(cmap=\"tab20\", alpha=0.1, figsize=(20,20))\n"
   ]
  },
  {
   "cell_type": "code",
   "execution_count": 3,
   "id": "a46113a5-bcde-4583-950f-797c7cf9dbba",
   "metadata": {
    "tags": []
   },
   "outputs": [
    {
     "name": "stderr",
     "output_type": "stream",
     "text": [
      "/home/sepal-user/venv/eSBAE/lib/python3.8/site-packages/geopandas/geodataframe.py:1443: SettingWithCopyWarning: \n",
      "A value is trying to be set on a copy of a slice from a DataFrame.\n",
      "Try using .loc[row_indexer,col_indexer] = value instead\n",
      "\n",
      "See the caveats in the documentation: https://pandas.pydata.org/pandas-docs/stable/user_guide/indexing.html#returning-a-view-versus-a-copy\n",
      "  super().__setitem__(key, value)\n"
     ]
    }
   ],
   "source": [
    "gdf = grid.tail(20)\n",
    "gdf['point_id'] = gdf.index\n",
    "geo_json = gdf[['point_id', 'geometry']].to_crs('epsg:4326').to_json()\n",
    "fc = ee.FeatureCollection(json.loads(geo_json))"
   ]
  },
  {
   "cell_type": "code",
   "execution_count": 4,
   "id": "5a5ddaad-5ab3-4198-bb42-628807fa34e8",
   "metadata": {
    "tags": []
   },
   "outputs": [],
   "source": [
    "point_id_name = 'point_id'\n",
    "# start of calibration period (mainly for bfast)\n",
    "start_calibration = \"2015-01-01\"  # YYYY-MM-DD format\n",
    "\n",
    "# Actual period of interest, i.e. monitoring period\n",
    "start_monitor =     \"2016-01-01\"  # YYYY-MM-DD format\n",
    "end_monitor =       \"2017-01-01\"  # YYYY-MM-DD format\n",
    "\n",
    "# Directory where output and temp files will go\n",
    "outdir = 'results'  # goes to module_results/sbae_point_analysis if set to None\n",
    "\n",
    "# Select algorithms to run (Treu or False)\n",
    "cusum_deforest =  True\n",
    "bfast_monitor =   True\n",
    "bs_slope =        True\n",
    "ts_metrics =      True\n",
    "ccdc =            True\n",
    "landtrendr =      True\n",
    "jrc_nrt =         True\n",
    "global_products = True\n",
    "\n",
    "# select the bands to extract\n",
    "bands = ['green', 'red', 'nir', 'swir1', 'swir2', 'ndfi'] # other choices: ndfi, ndmi, mndwi, brightness, greenness, wetness\n",
    "\n",
    "# select the band for univariate ts-analysis (has to be inside bands list)\n",
    "ts_band = 'ndfi'\n",
    "\n",
    "# select the resolution to which the satellite data will be resized.\n",
    "scale = 70  # in meters (70 m is half ha, relates to FAO forest definition)\n",
    "\n",
    "### DO NOT CHANGE YET ###\n",
    "satellite='Landsat'  # this is going to be Surface Reflactance, Collection 2, Tier 1 data only\n",
    "max_cloud_cover = 75  # in percentage (0-100)\n",
    "\n",
    "# landsat related parameters\n",
    "lsat_params = {\n",
    "    'l9':     True,\n",
    "    'l8':     True,\n",
    "    'l7':     True,\n",
    "    'l5':     True,\n",
    "    'l4':     True,\n",
    "    'brdf':   True,\n",
    "    'bands':  bands,\n",
    "    'max_cc': max_cloud_cover\n",
    "}\n",
    "\n",
    "# bfast parameters\n",
    "bfast_params = {\n",
    "    'run':           bfast_monitor,\n",
    "    'start_monitor': start_monitor, \n",
    "    'freq':          365,\n",
    "    'k':             3, \n",
    "    'hfrac':         0.25, \n",
    "    'trend':         True, \n",
    "    'level':         0.05, \n",
    "    'backend':       'python'\n",
    "}\n",
    "\n",
    "# cusum parameters\n",
    "cusum_params = {\n",
    "    'run':              cusum_deforest,\n",
    "    'nr_of_bootstraps': 1000\n",
    "}\n",
    "\n",
    "# slope parameters\n",
    "bs_slope_params = {\n",
    "    'run':              bs_slope,\n",
    "    'nr_of_bootstraps': 1000\n",
    "}\n",
    "\n",
    "# time-series metrics\n",
    "ts_metrics_params = {\n",
    "    'run':              ts_metrics,\n",
    "    'outlier_removal':  False,\n",
    "    'z_threshhold':     3\n",
    "}\n",
    "\n",
    "# ccdc parameters\n",
    "ccdc_params = {\n",
    "    'run':                   ccdc,\n",
    "    'breakpointBands':       ['green', 'red', 'nir', 'swir1', 'swir2'],\n",
    "    'tmaskBands':            ['green', 'swir2'],\n",
    "    'minObservations':       6,\n",
    "    'chiSquareProbability':  .99,\n",
    "    'minNumOfYearsScaler':   1,\n",
    "    'dateFormat':            2,\n",
    "    'lambda':                20,\n",
    "    'maxIterations':         1000\n",
    "}\n",
    "\n",
    "\n",
    "landtrendr_params = { \n",
    "        'run':                    landtrendr,\n",
    "        'maxSegments':            6,\n",
    "        'spikeThreshold':         0.9,\n",
    "        'vertexCountOvershoot':   3,\n",
    "        'preventOneYearRecovery': True,\n",
    "        'recoveryThreshold':      0.25,\n",
    "        'pvalThreshold':          0.05,\n",
    "        'bestModelProportion':    0.75,\n",
    "        'minObservationsNeeded':  3\n",
    "}\n",
    "\n",
    "jrc_nrt_params = {\n",
    "    'run': jrc_nrt\n",
    "}\n",
    "\n",
    "# global products parameters\n",
    "global_products = {\n",
    "    'run':                      global_products,\n",
    "    'gfc':                      True,     # will include tree-cover 2000, loss, gain, lossyear\n",
    "    'tmf':                      True,    # will include deforestation and degradation year for tropical moist forests\n",
    "    'tmf_years':                True,    # will include classes per year - according to the monitor period\n",
    "    'esa_lc20':                 True,    # will include ESA LandCover Product class\n",
    "    'copernicus_lc':            True,    # will include ESA LandCover Product class - acording to the monitoring years\n",
    "    'esri_lc':                  True,    # will include the classes from ESRI World Cover 2020\n",
    "    'lang_tree_height':         True,    # returns the Tree Height from Lang et al 2022\n",
    "    'potapov_tree_height':      True,    # returns the tree height from Potapov et al. 2019 \n",
    "    'elevation':                True,    # returns elevation, slope and aspect\n",
    "    'dynamic_world_tree_prob':  True,    # returns Min, Max, Mean and StdDev of the trees probability for the monitoring period\n",
    "    'dynamic_world_class_mode': True     # returns the mode of the class for the monitoring period   \n",
    "}\n",
    "\n",
    "### DO NOT CHANGE ###\n",
    "### GATHER ALL INFO INTO A DICT #####\n",
    "config_dict = {\n",
    "    'work_dir':                         outdir,\n",
    "    'workers':                          10,\n",
    "    'max_points_per_chunk':             250,\n",
    "    'grid_size_levels':                 [4, 2, 1, 0.5, 0.25, 0.125, 0.075],  # definition of chunk sizes in degrees  \n",
    "    'lsat_params':                      lsat_params,\n",
    "    'ts_params': {\n",
    "        'start_calibration':            start_calibration,\n",
    "        'start_monitor':                start_monitor,\n",
    "        'end_monitor':                  end_monitor,\n",
    "        'point_id':                     point_id_name,\n",
    "        'bands':                        bands,\n",
    "        'ts_band':                      ts_band,\n",
    "        'satellite':                    satellite,\n",
    "        'scale':                        scale,\n",
    "        'max_cc':                       max_cloud_cover,\n",
    "        'outlier_removal':              True,\n",
    "        'smooth_ts':                    True       \n",
    "    },    \n",
    "    'bfast_params':                     bfast_params,\n",
    "    'cusum_params':                     cusum_params,\n",
    "    'bs_slope_params':                  bs_slope_params,\n",
    "    'ts_metrics_params':                ts_metrics_params,\n",
    "    'ccdc_params':                      ccdc_params,\n",
    "    'landtrendr_params':                landtrendr_params,\n",
    "    'jrc_nrt_params':                   jrc_nrt_params,\n",
    "    'global_products':                  global_products\n",
    "}"
   ]
  },
  {
   "cell_type": "code",
   "execution_count": 5,
   "id": "ab9fcd02-fb9d-46de-8a79-6e7930d37fcf",
   "metadata": {
    "tags": []
   },
   "outputs": [],
   "source": [
    "# create image collection (not being changed)\n",
    "lsat = landsat_collection(\n",
    "    start_calibration, \n",
    "    end_monitor, \n",
    "    fc.geometry().convexHull(100), \n",
    "    **config_dict['lsat_params']\n",
    ")\n",
    "extr_df = extract_time_series(lsat, fc, config_dict)"
   ]
  },
  {
   "cell_type": "code",
   "execution_count": 11,
   "id": "dea19ffe-0330-404e-873c-23ad698b2f99",
   "metadata": {
    "tags": []
   },
   "outputs": [
    {
     "ename": "ValueError",
     "evalue": "Invalid field type <class 'list'>",
     "output_type": "error",
     "traceback": [
      "\u001b[0;31m---------------------------------------------------------------------------\u001b[0m",
      "\u001b[0;31mValueError\u001b[0m                                Traceback (most recent call last)",
      "Cell \u001b[0;32mIn[11], line 1\u001b[0m\n\u001b[0;32m----> 1\u001b[0m \u001b[43mextr_df\u001b[49m\u001b[38;5;241;43m.\u001b[39;49m\u001b[43mto_file\u001b[49m\u001b[43m(\u001b[49m\u001b[38;5;124;43m'\u001b[39;49m\u001b[38;5;124;43mtest.gpkg\u001b[39;49m\u001b[38;5;124;43m'\u001b[39;49m\u001b[43m,\u001b[49m\u001b[43m \u001b[49m\u001b[43mdriver\u001b[49m\u001b[38;5;241;43m=\u001b[39;49m\u001b[38;5;124;43m'\u001b[39;49m\u001b[38;5;124;43mGPKG\u001b[39;49m\u001b[38;5;124;43m'\u001b[39;49m\u001b[43m)\u001b[49m\n",
      "File \u001b[0;32m~/venv/eSBAE/lib/python3.8/site-packages/geopandas/geodataframe.py:1203\u001b[0m, in \u001b[0;36mGeoDataFrame.to_file\u001b[0;34m(self, filename, driver, schema, index, **kwargs)\u001b[0m\n\u001b[1;32m   1120\u001b[0m \u001b[38;5;250m\u001b[39m\u001b[38;5;124;03m\"\"\"Write the ``GeoDataFrame`` to a file.\u001b[39;00m\n\u001b[1;32m   1121\u001b[0m \n\u001b[1;32m   1122\u001b[0m \u001b[38;5;124;03mBy default, an ESRI shapefile is written, but any OGR data source\u001b[39;00m\n\u001b[0;32m   (...)\u001b[0m\n\u001b[1;32m   1199\u001b[0m \u001b[38;5;124;03m>>> gdf.to_file('dataframe.shp', mode=\"a\")  # doctest: +SKIP\u001b[39;00m\n\u001b[1;32m   1200\u001b[0m \u001b[38;5;124;03m\"\"\"\u001b[39;00m\n\u001b[1;32m   1201\u001b[0m \u001b[38;5;28;01mfrom\u001b[39;00m \u001b[38;5;21;01mgeopandas\u001b[39;00m\u001b[38;5;21;01m.\u001b[39;00m\u001b[38;5;21;01mio\u001b[39;00m\u001b[38;5;21;01m.\u001b[39;00m\u001b[38;5;21;01mfile\u001b[39;00m \u001b[38;5;28;01mimport\u001b[39;00m _to_file\n\u001b[0;32m-> 1203\u001b[0m \u001b[43m_to_file\u001b[49m\u001b[43m(\u001b[49m\u001b[38;5;28;43mself\u001b[39;49m\u001b[43m,\u001b[49m\u001b[43m \u001b[49m\u001b[43mfilename\u001b[49m\u001b[43m,\u001b[49m\u001b[43m \u001b[49m\u001b[43mdriver\u001b[49m\u001b[43m,\u001b[49m\u001b[43m \u001b[49m\u001b[43mschema\u001b[49m\u001b[43m,\u001b[49m\u001b[43m \u001b[49m\u001b[43mindex\u001b[49m\u001b[43m,\u001b[49m\u001b[43m \u001b[49m\u001b[38;5;241;43m*\u001b[39;49m\u001b[38;5;241;43m*\u001b[39;49m\u001b[43mkwargs\u001b[49m\u001b[43m)\u001b[49m\n",
      "File \u001b[0;32m~/venv/eSBAE/lib/python3.8/site-packages/geopandas/io/file.py:545\u001b[0m, in \u001b[0;36m_to_file\u001b[0;34m(df, filename, driver, schema, index, mode, crs, engine, **kwargs)\u001b[0m\n\u001b[1;32m    538\u001b[0m     warnings\u001b[38;5;241m.\u001b[39mwarn(\n\u001b[1;32m    539\u001b[0m         \u001b[38;5;124m\"\u001b[39m\u001b[38;5;124mColumn names longer than 10 characters will be truncated when saved to \u001b[39m\u001b[38;5;124m\"\u001b[39m\n\u001b[1;32m    540\u001b[0m         \u001b[38;5;124m\"\u001b[39m\u001b[38;5;124mESRI Shapefile.\u001b[39m\u001b[38;5;124m\"\u001b[39m,\n\u001b[1;32m    541\u001b[0m         stacklevel\u001b[38;5;241m=\u001b[39m\u001b[38;5;241m3\u001b[39m,\n\u001b[1;32m    542\u001b[0m     )\n\u001b[1;32m    544\u001b[0m \u001b[38;5;28;01mif\u001b[39;00m engine \u001b[38;5;241m==\u001b[39m \u001b[38;5;124m\"\u001b[39m\u001b[38;5;124mfiona\u001b[39m\u001b[38;5;124m\"\u001b[39m:\n\u001b[0;32m--> 545\u001b[0m     \u001b[43m_to_file_fiona\u001b[49m\u001b[43m(\u001b[49m\u001b[43mdf\u001b[49m\u001b[43m,\u001b[49m\u001b[43m \u001b[49m\u001b[43mfilename\u001b[49m\u001b[43m,\u001b[49m\u001b[43m \u001b[49m\u001b[43mdriver\u001b[49m\u001b[43m,\u001b[49m\u001b[43m \u001b[49m\u001b[43mschema\u001b[49m\u001b[43m,\u001b[49m\u001b[43m \u001b[49m\u001b[43mcrs\u001b[49m\u001b[43m,\u001b[49m\u001b[43m \u001b[49m\u001b[43mmode\u001b[49m\u001b[43m,\u001b[49m\u001b[43m \u001b[49m\u001b[38;5;241;43m*\u001b[39;49m\u001b[38;5;241;43m*\u001b[39;49m\u001b[43mkwargs\u001b[49m\u001b[43m)\u001b[49m\n\u001b[1;32m    546\u001b[0m \u001b[38;5;28;01melif\u001b[39;00m engine \u001b[38;5;241m==\u001b[39m \u001b[38;5;124m\"\u001b[39m\u001b[38;5;124mpyogrio\u001b[39m\u001b[38;5;124m\"\u001b[39m:\n\u001b[1;32m    547\u001b[0m     _to_file_pyogrio(df, filename, driver, schema, crs, mode, \u001b[38;5;241m*\u001b[39m\u001b[38;5;241m*\u001b[39mkwargs)\n",
      "File \u001b[0;32m~/venv/eSBAE/lib/python3.8/site-packages/geopandas/io/file.py:575\u001b[0m, in \u001b[0;36m_to_file_fiona\u001b[0;34m(df, filename, driver, schema, crs, mode, **kwargs)\u001b[0m\n\u001b[1;32m    571\u001b[0m     crs_wkt \u001b[38;5;241m=\u001b[39m crs\u001b[38;5;241m.\u001b[39mto_wkt(\u001b[38;5;124m\"\u001b[39m\u001b[38;5;124mWKT1_GDAL\u001b[39m\u001b[38;5;124m\"\u001b[39m)\n\u001b[1;32m    572\u001b[0m \u001b[38;5;28;01mwith\u001b[39;00m fiona\u001b[38;5;241m.\u001b[39mopen(\n\u001b[1;32m    573\u001b[0m     filename, mode\u001b[38;5;241m=\u001b[39mmode, driver\u001b[38;5;241m=\u001b[39mdriver, crs_wkt\u001b[38;5;241m=\u001b[39mcrs_wkt, schema\u001b[38;5;241m=\u001b[39mschema, \u001b[38;5;241m*\u001b[39m\u001b[38;5;241m*\u001b[39mkwargs\n\u001b[1;32m    574\u001b[0m ) \u001b[38;5;28;01mas\u001b[39;00m colxn:\n\u001b[0;32m--> 575\u001b[0m     \u001b[43mcolxn\u001b[49m\u001b[38;5;241;43m.\u001b[39;49m\u001b[43mwriterecords\u001b[49m\u001b[43m(\u001b[49m\u001b[43mdf\u001b[49m\u001b[38;5;241;43m.\u001b[39;49m\u001b[43miterfeatures\u001b[49m\u001b[43m(\u001b[49m\u001b[43m)\u001b[49m\u001b[43m)\u001b[49m\n",
      "File \u001b[0;32m~/venv/eSBAE/lib/python3.8/site-packages/fiona/collection.py:549\u001b[0m, in \u001b[0;36mCollection.writerecords\u001b[0;34m(self, records)\u001b[0m\n\u001b[1;32m    547\u001b[0m \u001b[38;5;28;01mif\u001b[39;00m \u001b[38;5;28mself\u001b[39m\u001b[38;5;241m.\u001b[39mmode \u001b[38;5;129;01mnot\u001b[39;00m \u001b[38;5;129;01min\u001b[39;00m (\u001b[38;5;124m\"\u001b[39m\u001b[38;5;124ma\u001b[39m\u001b[38;5;124m\"\u001b[39m, \u001b[38;5;124m\"\u001b[39m\u001b[38;5;124mw\u001b[39m\u001b[38;5;124m\"\u001b[39m):\n\u001b[1;32m    548\u001b[0m     \u001b[38;5;28;01mraise\u001b[39;00m \u001b[38;5;167;01mOSError\u001b[39;00m(\u001b[38;5;124m\"\u001b[39m\u001b[38;5;124mcollection not open for writing\u001b[39m\u001b[38;5;124m\"\u001b[39m)\n\u001b[0;32m--> 549\u001b[0m \u001b[38;5;28;43mself\u001b[39;49m\u001b[38;5;241;43m.\u001b[39;49m\u001b[43msession\u001b[49m\u001b[38;5;241;43m.\u001b[39;49m\u001b[43mwriterecs\u001b[49m\u001b[43m(\u001b[49m\u001b[43mrecords\u001b[49m\u001b[43m,\u001b[49m\u001b[43m \u001b[49m\u001b[38;5;28;43mself\u001b[39;49m\u001b[43m)\u001b[49m\n\u001b[1;32m    550\u001b[0m \u001b[38;5;28mself\u001b[39m\u001b[38;5;241m.\u001b[39m_len \u001b[38;5;241m=\u001b[39m \u001b[38;5;28mself\u001b[39m\u001b[38;5;241m.\u001b[39msession\u001b[38;5;241m.\u001b[39mget_length()\n\u001b[1;32m    551\u001b[0m \u001b[38;5;28mself\u001b[39m\u001b[38;5;241m.\u001b[39m_bounds \u001b[38;5;241m=\u001b[39m \u001b[38;5;28;01mNone\u001b[39;00m\n",
      "File \u001b[0;32mfiona/ogrext.pyx:1408\u001b[0m, in \u001b[0;36mfiona.ogrext.WritingSession.writerecs\u001b[0;34m()\u001b[0m\n",
      "File \u001b[0;32mfiona/ogrext.pyx:513\u001b[0m, in \u001b[0;36mfiona.ogrext.OGRFeatureBuilder.build\u001b[0;34m()\u001b[0m\n",
      "\u001b[0;31mValueError\u001b[0m: Invalid field type <class 'list'>"
     ]
    }
   ],
   "source": [
    "extr_df.to_file('test.gpkg', driver='GPKG')"
   ]
  },
  {
   "cell_type": "code",
   "execution_count": null,
   "id": "46de981b-e5f2-4363-b0f2-971944539bb7",
   "metadata": {
    "tags": []
   },
   "outputs": [],
   "source": [
    "def structure_ts_data(df, point_id_name, bands):\n",
    "    \n",
    "    \n",
    "    df.index = pd.DatetimeIndex(pd.to_datetime(df.imageID.apply(lambda x: x.split('_')[-1]), format='%Y%m%d'))\n",
    "    df['dates'] = df['imageID'].apply(lambda x: int(x.split('_')[-1]))\n",
    "    #print(df['dates'])\n",
    "    #return\n",
    "    # loop over point_ids and run cusum\n",
    "    d = {}\n",
    "    for i, point in enumerate(df[point_id_name].unique()):\n",
    "        \n",
    "        # read only orws of points and sort by date\n",
    "        sub = df[df[point_id_name] == point].sort_index()\n",
    "        \n",
    "        #### LANDSAT ONLY ###########\n",
    "        sub['pathrow'] = sub.imageID.apply(lambda x: x.split('_')[-2])\n",
    "\n",
    "        # if more than one path row combination covers the point, we select only the one with the most images\n",
    "        if len(sub.pathrow.unique()) > 1:\n",
    "            # set an initil length\n",
    "            length = -1\n",
    "            # loop through pathrw combinations\n",
    "            for pathrow in sub.pathrow.unique():\n",
    "                # check length\n",
    "                l = len(sub[sub.pathrow == pathrow])\n",
    "                # compare ot previous length, and if higher reset pathrow and length variable\n",
    "                if l > length:\n",
    "                    pr = pathrow\n",
    "                    length = l\n",
    "            # finally filter sub df for pathrow with most images\n",
    "            sub = sub[sub.pathrow == pr]\n",
    "        #### LANDSAT ONLY ###########\n",
    "        \n",
    "        # still duplicates may appear between l9 and l8 that would make bfast crash, so we drop\n",
    "        sub = sub[~sub.index.duplicated(keep='first')]\n",
    "        \n",
    "        # fill ts dictionary\n",
    "        ts_dict= {}\n",
    "        for band in bands:\n",
    "            ts_dict.update({band: sub[band].tolist()})\n",
    "        \n",
    "        # write everything to a dict\n",
    "        d[i] = {\n",
    "            'point_idx': i,\n",
    "             point_id_name: point,\n",
    "            'dates': sub['dates'].tolist(),\n",
    "            'ts': ts_dict, \n",
    "            'images': len(sub),\n",
    "            'geometry': sub.geometry.head(1).values[0]\n",
    "        }\n",
    "    \n",
    "    # turn the dict into a geodataframe and return\n",
    "    return gpd.GeoDataFrame(pd.DataFrame.from_dict(d, orient='index')).set_geometry('geometry')"
   ]
  },
  {
   "cell_type": "code",
   "execution_count": null,
   "id": "acbe99c6-40fc-4184-a1ca-7425274e9bf2",
   "metadata": {},
   "outputs": [],
   "source": [
    "new = structure_ts_data(extr_df, point_id_name, bands)"
   ]
  },
  {
   "cell_type": "code",
   "execution_count": null,
   "id": "45f0e7c7-0b6b-4814-9443-094e6069ba47",
   "metadata": {
    "tags": []
   },
   "outputs": [],
   "source": [
    "new.head(1).ts[0]['red']"
   ]
  },
  {
   "cell_type": "code",
   "execution_count": 23,
   "id": "6348b455-6ae0-4a6d-8325-a8a3faf53ee8",
   "metadata": {
    "tags": []
   },
   "outputs": [
    {
     "data": {
      "text/plain": [
       "1"
      ]
     },
     "execution_count": 23,
     "metadata": {},
     "output_type": "execute_result"
    }
   ],
   "source": [
    "from scipy import stats\n",
    "import math\n",
    "\n",
    "# Test that both populations have the same proportion.\n",
    "def z_calc(p1, p2, n1, n2):\n",
    "    p_star = (p1*n1 + p2*n2) / (n1 + n2)\n",
    "    return (p2 - p1) / math.sqrt(p_star*(1 - p_star)*((1.0 / n1) + (1.0 / n2)))\n",
    "\n",
    "# Sample calculator\n",
    "def sample_required(p1, p_diff, alpha):\n",
    "    n = 1\n",
    "    while True:\n",
    "        z = z_calc(p1, p1+p_diff, n1=n, n2=n)\n",
    "        p = 1 - stats.norm.cdf(z)\n",
    "        if p < alpha:\n",
    "            break\n",
    "        n += 1\n",
    "    return n\n",
    "\n",
    "sample_required(0.2, 0.05, 300000)"
   ]
  },
  {
   "cell_type": "code",
   "execution_count": 75,
   "id": "a19bcae4-4a7a-4c07-bd9d-a45191d53144",
   "metadata": {
    "tags": []
   },
   "outputs": [
    {
     "name": "stdout",
     "output_type": "stream",
     "text": [
      "50000.0\n"
     ]
    }
   ],
   "source": [
    "z_score = 1.645\n",
    "country_area = 50000000\n",
    "change_area = 50000\n",
    "proportion_change = change_area/country_area\n",
    "error = 0.2 * proportion_change\n",
    "print(proportion_change*country_area)"
   ]
  },
  {
   "cell_type": "code",
   "execution_count": 40,
   "id": "678c1579-f33c-48c0-bb0a-00b1273e4936",
   "metadata": {},
   "outputs": [
    {
     "data": {
      "text/plain": [
       "112683.39104166665"
      ]
     },
     "execution_count": 40,
     "metadata": {},
     "output_type": "execute_result"
    }
   ],
   "source": []
  },
  {
   "cell_type": "code",
   "execution_count": 89,
   "id": "062fed24-a989-4121-889c-29bba794ceaa",
   "metadata": {
    "tags": []
   },
   "outputs": [
    {
     "name": "stdout",
     "output_type": "stream",
     "text": [
      "78456.72993374997 4931299.51419887\n"
     ]
    }
   ],
   "source": [
    "def calculate_sample_size_cochran(total_area, subarea, z_score=1.645, target_precision=0.2):\n",
    "    \n",
    "    proportional_change = subarea/total_area\n",
    "    error = target_precision * proportional_change\n",
    "    return (z_score*z_score * proportional_change * (1 - proportional_change))/(error*error)\n",
    "\n",
    "\n",
    "def calculate_sample_size_yamane(total_area, subarea, z_score=1.645, target_precision=0.2):\n",
    "    \n",
    "    proportional_change = subarea/total_area\n",
    "    error = target_precision * proportional_change\n",
    "    return total_area / (1 + total_area * (error*error))\n",
    "\n",
    "\n",
    "cochran = calculate_sample_size_cochran(\n",
    "    total_area = 58036700,\n",
    "    subarea = 50000,\n",
    "    z_score=1.645,\n",
    "    target_precision=.2\n",
    ")\n",
    "\n",
    "\n",
    "yamane = calculate_sample_size_yamane(\n",
    "    total_area = 58036700,\n",
    "    subarea = 50000,\n",
    "    z_score=1.645,\n",
    "    target_precision=.5\n",
    ")\n",
    "\n",
    "print(cochran, yamane)"
   ]
  },
  {
   "cell_type": "code",
   "execution_count": 98,
   "id": "a3adf37a-2e99-46bd-ac68-a6906be44a81",
   "metadata": {
    "tags": []
   },
   "outputs": [],
   "source": [
    "import numpy as np\n",
    "# we should invert that to do something similar as extrating from global data\n",
    "def calculate_error_cochran(total_area, subarea, z_score=1.645, sample_size=250):\n",
    "    \n",
    "    proportional_change = subarea/total_area\n",
    "    return np.sqrt((z_score*z_score * proportional_change * (1 - proportional_change))/sample_size)/proportional_change"
   ]
  },
  {
   "cell_type": "code",
   "execution_count": 158,
   "id": "32176613-15dd-4496-9727-ceba27a2519c",
   "metadata": {
    "tags": []
   },
   "outputs": [
    {
     "data": {
      "text/html": [
       "<div>\n",
       "<style scoped>\n",
       "    .dataframe tbody tr th:only-of-type {\n",
       "        vertical-align: middle;\n",
       "    }\n",
       "\n",
       "    .dataframe tbody tr th {\n",
       "        vertical-align: top;\n",
       "    }\n",
       "\n",
       "    .dataframe thead th {\n",
       "        text-align: right;\n",
       "    }\n",
       "</style>\n",
       "<table border=\"1\" class=\"dataframe\">\n",
       "  <thead>\n",
       "    <tr style=\"text-align: right;\">\n",
       "      <th></th>\n",
       "      <th>0</th>\n",
       "      <th>1</th>\n",
       "      <th>2</th>\n",
       "    </tr>\n",
       "  </thead>\n",
       "  <tbody>\n",
       "    <tr>\n",
       "      <th>0</th>\n",
       "      <td>10000</td>\n",
       "      <td>103.385567</td>\n",
       "      <td>7.618182</td>\n",
       "    </tr>\n",
       "    <tr>\n",
       "      <th>1</th>\n",
       "      <td>20000</td>\n",
       "      <td>73.104636</td>\n",
       "      <td>5.386868</td>\n",
       "    </tr>\n",
       "    <tr>\n",
       "      <th>2</th>\n",
       "      <td>30000</td>\n",
       "      <td>59.689685</td>\n",
       "      <td>4.398360</td>\n",
       "    </tr>\n",
       "    <tr>\n",
       "      <th>3</th>\n",
       "      <td>40000</td>\n",
       "      <td>51.692784</td>\n",
       "      <td>3.809091</td>\n",
       "    </tr>\n",
       "    <tr>\n",
       "      <th>4</th>\n",
       "      <td>50000</td>\n",
       "      <td>46.235431</td>\n",
       "      <td>3.406955</td>\n",
       "    </tr>\n",
       "    <tr>\n",
       "      <th>5</th>\n",
       "      <td>60000</td>\n",
       "      <td>42.206981</td>\n",
       "      <td>3.110110</td>\n",
       "    </tr>\n",
       "    <tr>\n",
       "      <th>6</th>\n",
       "      <td>70000</td>\n",
       "      <td>39.076071</td>\n",
       "      <td>2.879402</td>\n",
       "    </tr>\n",
       "    <tr>\n",
       "      <th>7</th>\n",
       "      <td>80000</td>\n",
       "      <td>36.552318</td>\n",
       "      <td>2.693434</td>\n",
       "    </tr>\n",
       "    <tr>\n",
       "      <th>8</th>\n",
       "      <td>90000</td>\n",
       "      <td>34.461856</td>\n",
       "      <td>2.539394</td>\n",
       "    </tr>\n",
       "    <tr>\n",
       "      <th>9</th>\n",
       "      <td>100000</td>\n",
       "      <td>32.693387</td>\n",
       "      <td>2.409081</td>\n",
       "    </tr>\n",
       "    <tr>\n",
       "      <th>10</th>\n",
       "      <td>110000</td>\n",
       "      <td>31.171921</td>\n",
       "      <td>2.296968</td>\n",
       "    </tr>\n",
       "    <tr>\n",
       "      <th>11</th>\n",
       "      <td>120000</td>\n",
       "      <td>29.844843</td>\n",
       "      <td>2.199180</td>\n",
       "    </tr>\n",
       "    <tr>\n",
       "      <th>12</th>\n",
       "      <td>130000</td>\n",
       "      <td>28.673997</td>\n",
       "      <td>2.112904</td>\n",
       "    </tr>\n",
       "    <tr>\n",
       "      <th>13</th>\n",
       "      <td>140000</td>\n",
       "      <td>27.630955</td>\n",
       "      <td>2.036045</td>\n",
       "    </tr>\n",
       "    <tr>\n",
       "      <th>14</th>\n",
       "      <td>150000</td>\n",
       "      <td>26.694039</td>\n",
       "      <td>1.967006</td>\n",
       "    </tr>\n",
       "    <tr>\n",
       "      <th>15</th>\n",
       "      <td>160000</td>\n",
       "      <td>25.846392</td>\n",
       "      <td>1.904546</td>\n",
       "    </tr>\n",
       "    <tr>\n",
       "      <th>16</th>\n",
       "      <td>170000</td>\n",
       "      <td>25.074683</td>\n",
       "      <td>1.847681</td>\n",
       "    </tr>\n",
       "    <tr>\n",
       "      <th>17</th>\n",
       "      <td>180000</td>\n",
       "      <td>24.368212</td>\n",
       "      <td>1.795623</td>\n",
       "    </tr>\n",
       "    <tr>\n",
       "      <th>18</th>\n",
       "      <td>190000</td>\n",
       "      <td>23.718276</td>\n",
       "      <td>1.747731</td>\n",
       "    </tr>\n",
       "    <tr>\n",
       "      <th>19</th>\n",
       "      <td>200000</td>\n",
       "      <td>23.117716</td>\n",
       "      <td>1.703477</td>\n",
       "    </tr>\n",
       "    <tr>\n",
       "      <th>20</th>\n",
       "      <td>210000</td>\n",
       "      <td>22.560580</td>\n",
       "      <td>1.662424</td>\n",
       "    </tr>\n",
       "    <tr>\n",
       "      <th>21</th>\n",
       "      <td>220000</td>\n",
       "      <td>22.041877</td>\n",
       "      <td>1.624202</td>\n",
       "    </tr>\n",
       "    <tr>\n",
       "      <th>22</th>\n",
       "      <td>230000</td>\n",
       "      <td>21.557381</td>\n",
       "      <td>1.588501</td>\n",
       "    </tr>\n",
       "    <tr>\n",
       "      <th>23</th>\n",
       "      <td>240000</td>\n",
       "      <td>21.103491</td>\n",
       "      <td>1.555055</td>\n",
       "    </tr>\n",
       "    <tr>\n",
       "      <th>24</th>\n",
       "      <td>250000</td>\n",
       "      <td>20.677113</td>\n",
       "      <td>1.523636</td>\n",
       "    </tr>\n",
       "    <tr>\n",
       "      <th>25</th>\n",
       "      <td>260000</td>\n",
       "      <td>20.275578</td>\n",
       "      <td>1.494048</td>\n",
       "    </tr>\n",
       "    <tr>\n",
       "      <th>26</th>\n",
       "      <td>270000</td>\n",
       "      <td>19.896562</td>\n",
       "      <td>1.466120</td>\n",
       "    </tr>\n",
       "    <tr>\n",
       "      <th>27</th>\n",
       "      <td>280000</td>\n",
       "      <td>19.538036</td>\n",
       "      <td>1.439701</td>\n",
       "    </tr>\n",
       "    <tr>\n",
       "      <th>28</th>\n",
       "      <td>290000</td>\n",
       "      <td>19.198218</td>\n",
       "      <td>1.414661</td>\n",
       "    </tr>\n",
       "    <tr>\n",
       "      <th>29</th>\n",
       "      <td>300000</td>\n",
       "      <td>18.875536</td>\n",
       "      <td>1.390883</td>\n",
       "    </tr>\n",
       "    <tr>\n",
       "      <th>30</th>\n",
       "      <td>310000</td>\n",
       "      <td>18.568596</td>\n",
       "      <td>1.368266</td>\n",
       "    </tr>\n",
       "    <tr>\n",
       "      <th>31</th>\n",
       "      <td>320000</td>\n",
       "      <td>18.276159</td>\n",
       "      <td>1.346717</td>\n",
       "    </tr>\n",
       "    <tr>\n",
       "      <th>32</th>\n",
       "      <td>330000</td>\n",
       "      <td>17.997117</td>\n",
       "      <td>1.326155</td>\n",
       "    </tr>\n",
       "    <tr>\n",
       "      <th>33</th>\n",
       "      <td>340000</td>\n",
       "      <td>17.730478</td>\n",
       "      <td>1.306507</td>\n",
       "    </tr>\n",
       "    <tr>\n",
       "      <th>34</th>\n",
       "      <td>350000</td>\n",
       "      <td>17.475350</td>\n",
       "      <td>1.287708</td>\n",
       "    </tr>\n",
       "    <tr>\n",
       "      <th>35</th>\n",
       "      <td>360000</td>\n",
       "      <td>17.230928</td>\n",
       "      <td>1.269697</td>\n",
       "    </tr>\n",
       "    <tr>\n",
       "      <th>36</th>\n",
       "      <td>370000</td>\n",
       "      <td>16.996483</td>\n",
       "      <td>1.252421</td>\n",
       "    </tr>\n",
       "    <tr>\n",
       "      <th>37</th>\n",
       "      <td>380000</td>\n",
       "      <td>16.771354</td>\n",
       "      <td>1.235832</td>\n",
       "    </tr>\n",
       "    <tr>\n",
       "      <th>38</th>\n",
       "      <td>390000</td>\n",
       "      <td>16.554940</td>\n",
       "      <td>1.219885</td>\n",
       "    </tr>\n",
       "    <tr>\n",
       "      <th>39</th>\n",
       "      <td>400000</td>\n",
       "      <td>16.346693</td>\n",
       "      <td>1.204540</td>\n",
       "    </tr>\n",
       "    <tr>\n",
       "      <th>40</th>\n",
       "      <td>410000</td>\n",
       "      <td>16.146113</td>\n",
       "      <td>1.189760</td>\n",
       "    </tr>\n",
       "    <tr>\n",
       "      <th>41</th>\n",
       "      <td>420000</td>\n",
       "      <td>15.952739</td>\n",
       "      <td>1.175511</td>\n",
       "    </tr>\n",
       "    <tr>\n",
       "      <th>42</th>\n",
       "      <td>430000</td>\n",
       "      <td>15.766151</td>\n",
       "      <td>1.161762</td>\n",
       "    </tr>\n",
       "    <tr>\n",
       "      <th>43</th>\n",
       "      <td>440000</td>\n",
       "      <td>15.585961</td>\n",
       "      <td>1.148484</td>\n",
       "    </tr>\n",
       "    <tr>\n",
       "      <th>44</th>\n",
       "      <td>450000</td>\n",
       "      <td>15.411810</td>\n",
       "      <td>1.135652</td>\n",
       "    </tr>\n",
       "    <tr>\n",
       "      <th>45</th>\n",
       "      <td>460000</td>\n",
       "      <td>15.243370</td>\n",
       "      <td>1.123240</td>\n",
       "    </tr>\n",
       "    <tr>\n",
       "      <th>46</th>\n",
       "      <td>470000</td>\n",
       "      <td>15.080335</td>\n",
       "      <td>1.111226</td>\n",
       "    </tr>\n",
       "    <tr>\n",
       "      <th>47</th>\n",
       "      <td>480000</td>\n",
       "      <td>14.922421</td>\n",
       "      <td>1.099590</td>\n",
       "    </tr>\n",
       "    <tr>\n",
       "      <th>48</th>\n",
       "      <td>490000</td>\n",
       "      <td>14.769367</td>\n",
       "      <td>1.088312</td>\n",
       "    </tr>\n",
       "  </tbody>\n",
       "</table>\n",
       "</div>"
      ],
      "text/plain": [
       "         0           1         2\n",
       "0    10000  103.385567  7.618182\n",
       "1    20000   73.104636  5.386868\n",
       "2    30000   59.689685  4.398360\n",
       "3    40000   51.692784  3.809091\n",
       "4    50000   46.235431  3.406955\n",
       "5    60000   42.206981  3.110110\n",
       "6    70000   39.076071  2.879402\n",
       "7    80000   36.552318  2.693434\n",
       "8    90000   34.461856  2.539394\n",
       "9   100000   32.693387  2.409081\n",
       "10  110000   31.171921  2.296968\n",
       "11  120000   29.844843  2.199180\n",
       "12  130000   28.673997  2.112904\n",
       "13  140000   27.630955  2.036045\n",
       "14  150000   26.694039  1.967006\n",
       "15  160000   25.846392  1.904546\n",
       "16  170000   25.074683  1.847681\n",
       "17  180000   24.368212  1.795623\n",
       "18  190000   23.718276  1.747731\n",
       "19  200000   23.117716  1.703477\n",
       "20  210000   22.560580  1.662424\n",
       "21  220000   22.041877  1.624202\n",
       "22  230000   21.557381  1.588501\n",
       "23  240000   21.103491  1.555055\n",
       "24  250000   20.677113  1.523636\n",
       "25  260000   20.275578  1.494048\n",
       "26  270000   19.896562  1.466120\n",
       "27  280000   19.538036  1.439701\n",
       "28  290000   19.198218  1.414661\n",
       "29  300000   18.875536  1.390883\n",
       "30  310000   18.568596  1.368266\n",
       "31  320000   18.276159  1.346717\n",
       "32  330000   17.997117  1.326155\n",
       "33  340000   17.730478  1.306507\n",
       "34  350000   17.475350  1.287708\n",
       "35  360000   17.230928  1.269697\n",
       "36  370000   16.996483  1.252421\n",
       "37  380000   16.771354  1.235832\n",
       "38  390000   16.554940  1.219885\n",
       "39  400000   16.346693  1.204540\n",
       "40  410000   16.146113  1.189760\n",
       "41  420000   15.952739  1.175511\n",
       "42  430000   15.766151  1.161762\n",
       "43  440000   15.585961  1.148484\n",
       "44  450000   15.411810  1.135652\n",
       "45  460000   15.243370  1.123240\n",
       "46  470000   15.080335  1.111226\n",
       "47  480000   14.922421  1.099590\n",
       "48  490000   14.769367  1.088312"
      ]
     },
     "metadata": {},
     "output_type": "display_data"
    }
   ],
   "source": [
    "d = {}\n",
    "for idx, sample_size in enumerate(range(10000, 500000, 10000)):\n",
    "    error = calculate_error_cochran(total_area = 158036700,\n",
    "        subarea = 40000,\n",
    "        z_score=1.645,\n",
    "        sample_size=sample_size)*100\n",
    "    grid_size = np.sqrt(58036700/100/sample_size)\n",
    "    d[idx] = sample_size, error, grid_size\n",
    "    \n",
    "    \n",
    "df = pd.DataFrame.from_dict(d, orient='index')\n",
    "\n",
    "display(df)\n",
    "df.columns = ['Sample Size', 'Error', 'Grid Size']"
   ]
  },
  {
   "cell_type": "code",
   "execution_count": 159,
   "id": "c9613b11-f122-4587-a920-7ec95a2c58d7",
   "metadata": {
    "tags": []
   },
   "outputs": [
    {
     "data": {
      "text/plain": [
       "<Axes: xlabel='Grid Size', ylabel='Sample Size'>"
      ]
     },
     "execution_count": 159,
     "metadata": {},
     "output_type": "execute_result"
    },
    {
     "data": {
      "image/png": "[encoded data removed]",
      "text/plain": [
       "<Figure size 640x480 with 1 Axes>"
      ]
     },
     "metadata": {},
     "output_type": "display_data"
    },
    {
     "data": {
      "image/png": "[encoded data removed]",
      "text/plain": [
       "<Figure size 640x480 with 1 Axes>"
      ]
     },
     "metadata": {},
     "output_type": "display_data"
    }
   ],
   "source": [
    "df.plot(kind='scatter', y='Error', x='Sample Size')\n",
    "df.plot(kind='scatter', y='Sample Size', x='Grid Size')"
   ]
  },
  {
   "cell_type": "code",
   "execution_count": 145,
   "id": "79eac6b1-dd08-4745-b762-3dd6b18aa831",
   "metadata": {
    "tags": []
   },
   "outputs": [
    {
     "data": {
      "text/plain": [
       "1.3908834123199063"
      ]
     },
     "execution_count": 145,
     "metadata": {},
     "output_type": "execute_result"
    }
   ],
   "source": []
  },
  {
   "cell_type": "code",
   "execution_count": null,
   "id": "4b8c9390-da37-40b6-8b8c-23257a93d27c",
   "metadata": {},
   "outputs": [],
   "source": []
  }
 ],
 "metadata": {
  "kernelspec": {
   "display_name": "venv_eSBAE2",
   "language": "python",
   "name": "venv_esbae2"
  },
  "language_info": {
   "codemirror_mode": {
    "name": "ipython",
    "version": 3
   },
   "file_extension": ".py",
   "mimetype": "text/x-python",
   "name": "python",
   "nbconvert_exporter": "python",
   "pygments_lexer": "ipython3",
   "version": "3.8.10"
  }
 },
 "nbformat": 4,
 "nbformat_minor": 5
}
