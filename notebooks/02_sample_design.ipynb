{
 "cells": [
  {
   "cell_type": "markdown",
   "id": "d90d518a-4ebf-4e82-9f08-68b10676bba8",
   "metadata": {},
   "source": [
    "<font face=\"Calibri\" size=\"2\"> <i>SBAE - Notebook Series - Part II, version 0.1,  June 2022. Andreas Vollrath, UN-Food and Agricultural Organization, Rome</i>\n",
    "</font>"
   ]
  },
  {
   "cell_type": "markdown",
   "id": "fff4369c-dec3-43b8-b9a9-a4bb36b4bf48",
   "metadata": {
    "tags": []
   },
   "source": [
    "![title](images/header.png)\n",
    "\n",
    "# II - Sample Design \n",
    "### Creation of point samples for subsequent analysis\n",
    "-------\n",
    "\n",
    "The Sample-based Area Estimation is based on a set of points for a given area of interest (AOI). There are different ways of creating a set of points, such as: \n",
    "\n",
    "- systematic, \n",
    "- random systematic,\n",
    "- purely random or\n",
    "- stratifed random.\n",
    "\n",
    "In addition, the distribution of the points is defined by some type of underlying geometry. This can be some regular geometry, referred to as **grid** or a **layer of strata** such as a land cover map for example. Regular grids can be generated in the follwoing forms:\n",
    "\n",
    "- square\n",
    "- triangle\n",
    "- hexagons\n",
    "\n",
    "This notebook takes you through the process of generating such a set of sample points with the above mentioned options."
   ]
  },
  {
   "cell_type": "markdown",
   "id": "9f1f9d9a-8a0d-4d85-b134-f0bda3727152",
   "metadata": {},
   "source": [
    "### Import libs\n",
    "\n",
    "*Execute only*"
   ]
  },
  {
   "cell_type": "code",
   "execution_count": 1,
   "id": "a75e78de-8687-4632-8586-9ca964b31045",
   "metadata": {},
   "outputs": [
    {
     "name": "stderr",
     "output_type": "stream",
     "text": [
      "/home/sepal-user/venv/eSBAE/lib/python3.8/site-packages/bfast/__init__.py:10: UserWarning: cupy is not available in this environment, GPU fonctionnalities won't be available\n",
      "  warn(\"cupy is not available in this environment, GPU fonctionnalities won't be available\")\n"
     ]
    }
   ],
   "source": [
    "import time\n",
    "from datetime import datetime as dt\n",
    "import matplotlib.pyplot as plt\n",
    "\n",
    "import ee\n",
    "import geopandas as gpd\n",
    "#from sepal_ui.mapping import SepalMap\n",
    "\n",
    "# initialize EE    \n",
    "try:\n",
    "    ee.Initialize()\n",
    "except:\n",
    "    ee.Authenticate()\n",
    "    ee.Initialize()\n",
    "\n",
    "import geemap\n",
    "from e_sbae.sampling import grid"
   ]
  },
  {
   "cell_type": "markdown",
   "id": "23c04e79-5bfe-48d9-8412-c17707d7c5e9",
   "metadata": {},
   "source": [
    "### 1 - Create (semi-) regular sample points based on squared grid cells\n",
    "\n",
    "\n",
    "##### ***Introduction***\n",
    "In this part we will cover the **systematic** and **random systematic** sample point creation. \n",
    "The underlying routine will create a **regular grid** of a given size over the given AOI. \n",
    "\n",
    "Based on this, there are 2 options to create a point layer, i.e. using the center point of each grid cell, or using a single random location within each grid cell. \n",
    "\n",
    "When creating samples, one important consideration is the projection used. Projections always exhibit distortions with regard to the actual sphere-like shape of the Earth. As our aim is to give each sample the same weight in terms of area representativeness, we shall select a projection that is optimised for **equal area**. In the table below you can find some examples of global equal area projections to select from. The information is taken from an article from Yildrim & Kaya 2008 and can be found [here](https://www.ncbi.nlm.nih.gov/pmc/articles/PMC3790990/#:~:text=The%20level%20of%20distortion%20can,compared%20to%20equal%2Darea%20maps). **Note** that the commonly used Lat/Lon projection (EPSG:4326) **does** contain distortions that shall be avoided.\n",
    "\n",
    "| **Projection**    | **Code**       |\n",
    "| -------------     |----------------|\n",
    "| Behrmann          | ESRI:54017     | \n",
    "| Bonne             | ESRI:54024     | \n",
    "| Sinusoidal        | ESRI:54008     |"
   ]
  },
  {
   "cell_type": "markdown",
   "id": "5823fb25-9996-4041-81ce-f2af8ad6fc55",
   "metadata": {},
   "source": [
    "#### 1.1 - Define input variables\n",
    "\n",
    "4 input variables need to be selected:\n",
    "\n",
    "- Projection (as epsg/esri code)\n",
    "- AOI (either as Country Name, Earth Engine Feature Collection, or geopandas readable vector file, i.e. shapefile, geopackage, geojson etc)\n",
    "- Grid size (length of 1 border of the squared grid cell)\n",
    "- Sampling strategy (either random for random systematic, or systematic)"
   ]
  },
  {
   "cell_type": "code",
   "execution_count": 3,
   "id": "a523ff47-faae-42c2-af9f-ea2fbb3d6fc2",
   "metadata": {},
   "outputs": [],
   "source": [
    "# Define the projection to create the grid\n",
    "projection = 'EPSG:32737'    # Behrmanns equal area\n",
    "\n",
    "# Define the Area of Interest \n",
    "#can be both, a EE FeatureCollection, or a geopandas readable file format)\n",
    "\n",
    "# Example Country case, using FAO's GAUL boundaries\n",
    "country = 'Kenya'   # Buhweju region in Uganda\n",
    "aoi = ee.FeatureCollection(\"FAO/GAUL/2015/level1\").filter(ee.Filter.eq('ADM0_NAME', country)) # here any feature collection can be selected\n",
    "\n",
    "country = 'Central African Republic'\n",
    "aoi = ee.FeatureCollection(\"FAO/GAUL/2015/level0\").filter(ee.Filter.eq('ADM0_NAME', country)).union(100)\n",
    "\n",
    "# Example using a shapefile (uncomment and adapt path)\n",
    "#aoi = gpd.read_file('my_aoi_file.shp')\n",
    "\n",
    "# Define the \n",
    "grid_size = 2000 # in metres\n",
    "sampling_strategy = 'systematic' # either 'random' or 'systematic'"
   ]
  },
  {
   "cell_type": "code",
   "execution_count": 6,
   "id": "8dac234f-95c6-432c-8ca1-44c5cb78dd53",
   "metadata": {
    "tags": []
   },
   "outputs": [],
   "source": [
    "aoi = gpd.GeoDataFrame.from_features(aoi.getInfo())"
   ]
  },
  {
   "cell_type": "markdown",
   "id": "79717889-63f4-4ceb-bc40-8d763e1aa808",
   "metadata": {},
   "source": [
    "#### 1.2 - Create grid cells and sample points"
   ]
  },
  {
   "cell_type": "code",
   "execution_count": 22,
   "id": "5cd1a4bb-ae17-4a4c-912e-f46c13d003f7",
   "metadata": {
    "tags": []
   },
   "outputs": [
    {
     "name": "stderr",
     "output_type": "stream",
     "text": [
      "/tmp/ipykernel_25860/4284199966.py:3: FutureWarning: Currently, index_parts defaults to True, but in the future, it will default to False to be consistent with Pandas. Use `index_parts=True` to keep the current behavior and True/False to silence the warning.\n",
      "  geom = aoi.geometry.explode().values[2]\n"
     ]
    },
    {
     "data": {
      "text/plain": [
       "<Axes: >"
      ]
     },
     "execution_count": 22,
     "metadata": {},
     "output_type": "execute_result"
    },
    {
     "data": {
      "image/png": "[encoded data removed]",
      "text/plain": [
       "<Figure size 640x480 with 1 Axes>"
      ]
     },
     "metadata": {},
     "output_type": "display_data"
    }
   ],
   "source": [
    "import pandas as pd\n",
    "\n",
    "aoi = gpd.GeoDataFrame.from_features(aoi.getInfo())\n",
    "geom = aoi.geometry.explode().values[2]\n",
    "data = [['idx', geom]]\n",
    "  \n",
    "# Create the pandas DataFrame\n",
    "df = pd.DataFrame(data, columns=['idx', 'geometry'])\n",
    "gdf = gpd.GeoDataFrame(df, geometry='geometry')\n",
    "gdf.plot()"
   ]
  },
  {
   "cell_type": "code",
   "execution_count": null,
   "id": "bf78968a-12a9-4cbb-be6e-ab3f8cf8537a",
   "metadata": {},
   "outputs": [],
   "source": [
    "# Generate a systematic grid\n",
    "squared_grid_cells, squared_samples_gdf = grid.squared_grid(aoi, grid_size, projection, sampling_strategy)"
   ]
  },
  {
   "cell_type": "code",
   "execution_count": null,
   "id": "bbf12407-d9ff-4e3b-a3d6-ce382431c4b6",
   "metadata": {
    "tags": []
   },
   "outputs": [],
   "source": [
    "squared_grid_cells.to_crs('epsg:32737').to_file('kenya_grid_32737.gpkg')\n",
    "squared_samples_gdf.to_crs('epsg:32737').to_file('kenya_centroid_32737.gpkg')"
   ]
  },
  {
   "cell_type": "markdown",
   "id": "b6c5ed8a-88d6-4ae0-9db4-badb9fcfa674",
   "metadata": {},
   "source": [
    "#### 1.3 - Plot the results"
   ]
  },
  {
   "cell_type": "code",
   "execution_count": null,
   "id": "eccdd289-fec0-46ab-9823-5a1e24e0f64e",
   "metadata": {},
   "outputs": [],
   "source": [
    "grid.plot_samples(aoi, squared_samples_gdf, squared_grid_cells)"
   ]
  },
  {
   "cell_type": "markdown",
   "id": "2cc7b41f-3e66-4878-89ee-85203e9d939b",
   "metadata": {},
   "source": [
    "### 2 - Create (semi-) regular sample points based on a hexagonal grid\n",
    "\n",
    "***Why Hexagons?***\n",
    "\n",
    "Hexagons have a couple of advantages as compared ot squared grid cells. Foremost, they reduce the error on area, but they also do assure that each point within the grid cell is mre or less at the same distance to the centre. Indeed, the ideal shape under that criteria would be a circle. It is however not possible to create a consistent grid of circles. The hexagon is the shape of polygon that comes closest to this criteria, while being able to provide a consistent grid.\n",
    "\n",
    "***Discrete Global Grid System (DGGS)***\n",
    "\n",
    "A Discrete Global Grid System (DGGS) is a series of discrete global grids, usually consisting of increasingly finer resolution grids. \n",
    "\n",
    "***Usage***\n",
    "\n",
    "This notebook provides a simplified interface to the dggrid library from [Southern Oregon University](https://www.discreteglobalgrids.org/software/). \n",
    "\n",
    "It should be noted that the DGGRID ha a **fixed set of resolutions** that should be selected from column *res* in the below table (You need to check the manual for other resolutions if you select a different projection than the ISEA3H)\n",
    "\n",
    "For advanced usage it is recommended to read the [manual](https://webpages.sou.edu/~sahrk/docs/dggridManualV70.pdf).\n",
    "\n",
    "![title](images/dggrid_isea3h_ap3_res_table.png)\n"
   ]
  },
  {
   "cell_type": "markdown",
   "id": "cbf47b80-a507-4eca-9a4d-ee20b2364aab",
   "metadata": {},
   "source": [
    "#### 2.1 - Create hexagonal grid"
   ]
  },
  {
   "cell_type": "code",
   "execution_count": 23,
   "id": "69c31300-7543-4cff-a22e-403c7d29d454",
   "metadata": {},
   "outputs": [
    {
     "name": "stdin",
     "output_type": "stream",
     "text": [
      "Your AOI does not have a coordinate refernce system (CRS). Please provide the CRS of the AOI (e.g. epsg:4326):  epsg:4326\n"
     ]
    },
    {
     "name": "stdout",
     "output_type": "stream",
     "text": [
      "Creating hexagonal grid...\n",
      "INFO: Time elapsed: 0:12:05.665413\n"
     ]
    },
    {
     "name": "stderr",
     "output_type": "stream",
     "text": [
      "/home/sepal-user/modules/eSBAE/e_sbae/sampling/grid.py:169: UserWarning: Geometry is in a geographic CRS. Results from 'centroid' are likely incorrect. Use 'GeoSeries.to_crs()' to re-project geometries to a projected CRS before this operation.\n",
      "\n",
      "  gdf[\"sample_points\"] = gdf.geometry.centroid\n"
     ]
    },
    {
     "name": "stdout",
     "output_type": "stream",
     "text": [
      "Adding a unique point ID...\n",
      "Remove points outside AOI...\n",
      "Sampling grid consists of 175070 points.\n"
     ]
    }
   ],
   "source": [
    "hex_grid_cells, hex_samples_gdf = grid.hexagonal_grid(\n",
    "    aoi=gdf,                           # Area of interest\n",
    "    resolution=15,                      # refers to the resolution of the grid\n",
    "    sampling_strategy='systematic',    # choices are 'random' or 'systematic'\n",
    "    outcrs='EPSG:4326'                 # projection of the output data\n",
    ")"
   ]
  },
  {
   "cell_type": "markdown",
   "id": "6835211e-51c6-4685-8811-9b03e645b484",
   "metadata": {},
   "source": [
    "#### 2.2 Plot grid and grid cells"
   ]
  },
  {
   "cell_type": "code",
   "execution_count": null,
   "id": "b44ae3e7-1bdc-45c6-9f6d-b872f0524035",
   "metadata": {},
   "outputs": [],
   "source": [
    "h.plot_samples(aoi, hex_samples_gdf, hex_grid_cells)"
   ]
  },
  {
   "cell_type": "markdown",
   "id": "50f45bad-bf5b-49fb-b64b-f1b8ace04fe0",
   "metadata": {},
   "source": [
    "### 3 - Creating a set of irregular sample points based on random and stratified sampling"
   ]
  },
  {
   "cell_type": "markdown",
   "id": "b7c00cb3-9a72-4994-a9d0-84417f0b7364",
   "metadata": {
    "tags": []
   },
   "source": [
    "#### 3.1 - Create points"
   ]
  },
  {
   "cell_type": "code",
   "execution_count": null,
   "id": "a0d27d8a-3c07-4450-aaf9-b6bde5deeadd",
   "metadata": {
    "tags": []
   },
   "outputs": [],
   "source": [
    "if not isinstance(aoi, ee.FeatureCollection):\n",
    "    aoi = geemap.geopandas_to_ee(aoi.dissolve())\n",
    "\n",
    "# stratified sampling based on ESA LC\n",
    "imageCollection = ee.ImageCollection(\"ESA/WorldCover/v100\")\n",
    "esaLc = ee.Image(imageCollection.filterBounds(aoi).mosaic().clip(aoi).copyProperties(imageCollection.first()))\n",
    "\n",
    "stratified_samples = esaLc.stratifiedSample(**{\n",
    "    \"numPoints\": 25,\n",
    "    \"region\": aoi,\n",
    "    \"scale\": 100, \n",
    "    \"seed\": 42, \n",
    "    \"tileScale\": 4, \n",
    "    \"geometries\": True\n",
    "}).map(h.set_id)\n",
    "\n",
    "random_samples = ee.FeatureCollection.randomPoints(**{\n",
    "    \"points\": 250,\n",
    "    \"region\": aoi,\n",
    "}).map(h.set_id)"
   ]
  },
  {
   "cell_type": "markdown",
   "id": "688c2ded-544e-43fe-ad12-6f01be75ccad",
   "metadata": {},
   "source": [
    "random_samples Display in map\n",
    "\n",
    "**Execute only**"
   ]
  },
  {
   "cell_type": "code",
   "execution_count": null,
   "id": "3ba8c094-dc7c-4020-967f-b12031403966",
   "metadata": {
    "tags": []
   },
   "outputs": [],
   "source": [
    "# intialize Map\n",
    "Map = SepalMap(['HYBRID'])\n",
    "Map.zoom_ee_object(aoi.geometry())\n",
    "\n",
    "# add layers\n",
    "Map.addLayer(ee.Image().byte().paint(featureCollection=aoi, color=1, width=3), {\"palette\": \"blue\"}, 'Area of interest')\n",
    "Map.addLayer(esaLc, {}, 'ESA Worldcover 2020')\n",
    "Map.addLayer(stratified_samples.draw(color=\"green\", pointRadius=2), {}, 'Stratified Samples per class from ESA LC')\n",
    "Map.addLayer(random_samples.draw(color=\"red\", pointRadius=2), {}, 'Random Samples per class from ESA LC')\n",
    "\n",
    "#\n",
    "Map"
   ]
  },
  {
   "cell_type": "markdown",
   "id": "84448489-5ec4-420a-bf23-a2b130b29dbf",
   "metadata": {},
   "source": [
    "### 4- Save outputs\n",
    "\n",
    "The notebook allows you to export the final grid in 3 different ways:\n",
    "1. Collect Earth Online  (comma-separated-value format)\n",
    "2. GIS-vector file       (geopackage format)\n",
    "3. Earth Engine Asset    (Feature Collection format)"
   ]
  },
  {
   "cell_type": "code",
   "execution_count": 26,
   "id": "b72aaa32-857a-43ca-ae7e-b2a8df345d07",
   "metadata": {},
   "outputs": [
    {
     "name": "stdout",
     "output_type": "stream",
     "text": [
      " Saving outputs to results\n"
     ]
    },
    {
     "ename": "ValueError",
     "evalue": "x attribute access only provided for Point geometries",
     "output_type": "error",
     "traceback": [
      "\u001b[0;31m---------------------------------------------------------------------------\u001b[0m",
      "\u001b[0;31mValueError\u001b[0m                                Traceback (most recent call last)",
      "Cell \u001b[0;32mIn[26], line 25\u001b[0m\n\u001b[1;32m     20\u001b[0m \u001b[38;5;66;03m# upload to EE\u001b[39;00m\n\u001b[1;32m     21\u001b[0m \u001b[38;5;66;03m#h.upload_to_ee(final_samples, ee_asset_name)\u001b[39;00m\n\u001b[1;32m     22\u001b[0m \n\u001b[1;32m     23\u001b[0m \u001b[38;5;66;03m# save to local output directory\u001b[39;00m\n\u001b[1;32m     24\u001b[0m \u001b[38;5;28;01mfrom\u001b[39;00m \u001b[38;5;21;01me_sbae\u001b[39;00m\u001b[38;5;21;01m.\u001b[39;00m\u001b[38;5;21;01mhelpers\u001b[39;00m\u001b[38;5;21;01m.\u001b[39;00m\u001b[38;5;21;01mpython\u001b[39;00m \u001b[38;5;28;01mimport\u001b[39;00m save_gdf_locally\n\u001b[0;32m---> 25\u001b[0m \u001b[43msave_gdf_locally\u001b[49m\u001b[43m(\u001b[49m\u001b[43mfinal_samples\u001b[49m\u001b[43m,\u001b[49m\u001b[43m \u001b[49m\u001b[43mceo_csv\u001b[49m\u001b[38;5;241;43m=\u001b[39;49m\u001b[43mout_ceo_csv\u001b[49m\u001b[43m,\u001b[49m\u001b[43m \u001b[49m\u001b[43mgpkg\u001b[49m\u001b[38;5;241;43m=\u001b[39;49m\u001b[43mout_gpkg\u001b[49m\u001b[43m,\u001b[49m\u001b[43m \u001b[49m\u001b[43moutdir\u001b[49m\u001b[38;5;241;43m=\u001b[39;49m\u001b[43moutdir\u001b[49m\u001b[43m)\u001b[49m\n",
      "File \u001b[0;32m~/modules/eSBAE/e_sbae/helpers/python.py:89\u001b[0m, in \u001b[0;36msave_gdf_locally\u001b[0;34m(gdf, outdir, ceo_csv, gpkg)\u001b[0m\n\u001b[1;32m     86\u001b[0m outdir\u001b[38;5;241m.\u001b[39mmkdir(parents\u001b[38;5;241m=\u001b[39m\u001b[38;5;28;01mTrue\u001b[39;00m, exist_ok\u001b[38;5;241m=\u001b[39m\u001b[38;5;28;01mTrue\u001b[39;00m)\n\u001b[1;32m     88\u001b[0m \u001b[38;5;28mprint\u001b[39m(\u001b[38;5;124mf\u001b[39m\u001b[38;5;124m\"\u001b[39m\u001b[38;5;124m Saving outputs to \u001b[39m\u001b[38;5;132;01m{\u001b[39;00moutdir\u001b[38;5;132;01m}\u001b[39;00m\u001b[38;5;124m\"\u001b[39m)\n\u001b[0;32m---> 89\u001b[0m gdf[\u001b[38;5;124m\"\u001b[39m\u001b[38;5;124mLON\u001b[39m\u001b[38;5;124m\"\u001b[39m] \u001b[38;5;241m=\u001b[39m \u001b[43mgdf\u001b[49m\u001b[43m[\u001b[49m\u001b[38;5;124;43m\"\u001b[39;49m\u001b[38;5;124;43mgeometry\u001b[39;49m\u001b[38;5;124;43m\"\u001b[39;49m\u001b[43m]\u001b[49m\u001b[38;5;241;43m.\u001b[39;49m\u001b[43mx\u001b[49m\n\u001b[1;32m     90\u001b[0m gdf[\u001b[38;5;124m\"\u001b[39m\u001b[38;5;124mLAT\u001b[39m\u001b[38;5;124m\"\u001b[39m] \u001b[38;5;241m=\u001b[39m gdf[\u001b[38;5;124m\"\u001b[39m\u001b[38;5;124mgeometry\u001b[39m\u001b[38;5;124m\"\u001b[39m]\u001b[38;5;241m.\u001b[39my\n\u001b[1;32m     92\u001b[0m \u001b[38;5;66;03m# sort columns for CEO output\u001b[39;00m\n",
      "File \u001b[0;32m~/venv/eSBAE/lib/python3.8/site-packages/geopandas/geoseries.py:267\u001b[0m, in \u001b[0;36mGeoSeries.x\u001b[0;34m(self)\u001b[0m\n\u001b[1;32m    241\u001b[0m \u001b[38;5;129m@property\u001b[39m\n\u001b[1;32m    242\u001b[0m \u001b[38;5;28;01mdef\u001b[39;00m \u001b[38;5;21mx\u001b[39m(\u001b[38;5;28mself\u001b[39m):\n\u001b[1;32m    243\u001b[0m \u001b[38;5;250m    \u001b[39m\u001b[38;5;124;03m\"\"\"Return the x location of point geometries in a GeoSeries\u001b[39;00m\n\u001b[1;32m    244\u001b[0m \n\u001b[1;32m    245\u001b[0m \u001b[38;5;124;03m    Returns\u001b[39;00m\n\u001b[0;32m   (...)\u001b[0m\n\u001b[1;32m    265\u001b[0m \n\u001b[1;32m    266\u001b[0m \u001b[38;5;124;03m    \"\"\"\u001b[39;00m\n\u001b[0;32m--> 267\u001b[0m     \u001b[38;5;28;01mreturn\u001b[39;00m \u001b[43m_delegate_property\u001b[49m\u001b[43m(\u001b[49m\u001b[38;5;124;43m\"\u001b[39;49m\u001b[38;5;124;43mx\u001b[39;49m\u001b[38;5;124;43m\"\u001b[39;49m\u001b[43m,\u001b[49m\u001b[43m \u001b[49m\u001b[38;5;28;43mself\u001b[39;49m\u001b[43m)\u001b[49m\n",
      "File \u001b[0;32m~/venv/eSBAE/lib/python3.8/site-packages/geopandas/base.py:66\u001b[0m, in \u001b[0;36m_delegate_property\u001b[0;34m(op, this)\u001b[0m\n\u001b[1;32m     63\u001b[0m \u001b[38;5;28;01mdef\u001b[39;00m \u001b[38;5;21m_delegate_property\u001b[39m(op, this):\n\u001b[1;32m     64\u001b[0m     \u001b[38;5;66;03m# type: (str, GeoSeries) -> GeoSeries/Series\u001b[39;00m\n\u001b[1;32m     65\u001b[0m     a_this \u001b[38;5;241m=\u001b[39m GeometryArray(this\u001b[38;5;241m.\u001b[39mgeometry\u001b[38;5;241m.\u001b[39mvalues)\n\u001b[0;32m---> 66\u001b[0m     data \u001b[38;5;241m=\u001b[39m \u001b[38;5;28;43mgetattr\u001b[39;49m\u001b[43m(\u001b[49m\u001b[43ma_this\u001b[49m\u001b[43m,\u001b[49m\u001b[43m \u001b[49m\u001b[43mop\u001b[49m\u001b[43m)\u001b[49m\n\u001b[1;32m     67\u001b[0m     \u001b[38;5;28;01mif\u001b[39;00m \u001b[38;5;28misinstance\u001b[39m(data, GeometryArray):\n\u001b[1;32m     68\u001b[0m         \u001b[38;5;28;01mfrom\u001b[39;00m \u001b[38;5;21;01m.\u001b[39;00m\u001b[38;5;21;01mgeoseries\u001b[39;00m \u001b[38;5;28;01mimport\u001b[39;00m GeoSeries\n",
      "File \u001b[0;32m~/venv/eSBAE/lib/python3.8/site-packages/geopandas/array.py:891\u001b[0m, in \u001b[0;36mGeometryArray.x\u001b[0;34m(self)\u001b[0m\n\u001b[1;32m    889\u001b[0m \u001b[38;5;28;01melse\u001b[39;00m:\n\u001b[1;32m    890\u001b[0m     message \u001b[38;5;241m=\u001b[39m \u001b[38;5;124m\"\u001b[39m\u001b[38;5;124mx attribute access only provided for Point geometries\u001b[39m\u001b[38;5;124m\"\u001b[39m\n\u001b[0;32m--> 891\u001b[0m     \u001b[38;5;28;01mraise\u001b[39;00m \u001b[38;5;167;01mValueError\u001b[39;00m(message)\n",
      "\u001b[0;31mValueError\u001b[0m: x attribute access only provided for Point geometries"
     ]
    }
   ],
   "source": [
    "#------------------------\n",
    "# define an outputs \n",
    "#------------------------\n",
    "\n",
    "# select on of the above created grids that you want to save\n",
    "final_samples = hex_grid_cells\n",
    "hex_grid_cells.to_file('results/hex_cells_car.gpkg', driver='GPKG')\n",
    "# directory where output files will go\n",
    "outdir = 'results' # if left ot None, it goes into module results\n",
    "\n",
    "# output a CEO compatible csv file\n",
    "out_ceo_csv = False\n",
    "\n",
    "# output a Geopackage file\n",
    "out_gpkg = True\n",
    "\n",
    "# ee asset\n",
    "ee_asset_name = '01_myproject_sbae_points'\n",
    "\n",
    "# upload to EE\n",
    "#h.upload_to_ee(final_samples, ee_asset_name)\n",
    "\n",
    "# save to local output directory\n",
    "from e_sbae.helpers.python import save_gdf_locally\n",
    "save_gdf_locally(final_samples, ceo_csv=out_ceo_csv, gpkg=out_gpkg, outdir=outdir)"
   ]
  },
  {
   "cell_type": "code",
   "execution_count": null,
   "id": "87c61dcf-3dfa-43f9-9381-6e1cee320f8f",
   "metadata": {},
   "outputs": [],
   "source": []
  }
 ],
 "metadata": {
  "kernelspec": {
   "display_name": "venv_eSBAE2",
   "language": "python",
   "name": "venv_esbae2"
  },
  "language_info": {
   "codemirror_mode": {
    "name": "ipython",
    "version": 3
   },
   "file_extension": ".py",
   "mimetype": "text/x-python",
   "name": "python",
   "nbconvert_exporter": "python",
   "pygments_lexer": "ipython3",
   "version": "3.8.10"
  }
 },
 "nbformat": 4,
 "nbformat_minor": 5
}
